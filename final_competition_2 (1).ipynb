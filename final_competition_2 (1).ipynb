{
  "nbformat": 4,
  "nbformat_minor": 0,
  "metadata": {
    "colab": {
      "provenance": []
    },
    "kernelspec": {
      "name": "python3",
      "display_name": "Python 3"
    },
    "language_info": {
      "name": "python"
    }
  },
  "cells": [
    {
      "cell_type": "markdown",
      "source": [
        "### 🌈 1-Why a simple linear regression model (without any activation function) is not good for classification task, compared to Perceptron/Logistic regression?"
      ],
      "metadata": {
        "id": "dYbU8gVbe2QL"
      }
    },
    {
      "cell_type": "markdown",
      "source": [
        "There are two things that explain why Linear Regression is not suitable for classification. The first one is that Linear Regression deals with continuous values whereas classification problems mandate discrete values.\n",
        "The second problem is regarding the shift in threshold value when new data points are added. \n",
        "Like logistic regression, it can quickly learn a linear separation in feature space for two-class classification tasks\n",
        "A perceptron is an algorithm for supervised learning and it's used as binary classifier like logistic regression but the main difference that perceptron using step activation function. both logistic regression and preceptron are better than linear regression in classification task."
      ],
      "metadata": {
        "id": "tZItrf8Ye-5b"
      }
    },
    {
      "cell_type": "markdown",
      "source": [
        "\n",
        "**🌈2-What's a decision tree and how it is different to a logistic regression model?**"
      ],
      "metadata": {
        "id": "n83Rxk5Tf3B7"
      }
    },
    {
      "cell_type": "markdown",
      "source": [
        "Decision Trees bisect the space into smaller and smaller regions, whereas Logistic Regression fits a single line to divide the space exactly into two. Of course for higher-dimensional data, these lines would generalize to planes and hyperplanes.\n",
        "A decision tree is a sort of supervised machine learning that categorizes or predicts outcomes based on the answers to a previous set of questions.\n",
        ", and consists of\n",
        "\n",
        "Root node,\n",
        "\n",
        "Splitting,\n",
        "\n",
        "Branch,\n",
        "\n",
        "Decision node,\n",
        "\n",
        "Leaf node.\n",
        "\n",
        "The difference between decision tree and logistic regression is that logistic regression assumes that the data is linearly separable in space, whereas decision tree is a non-linear classifier; it doesn't not require data to be linearly separable, another difference that categorical data works well with decision tree, while continuous data work well with logistic regression."
      ],
      "metadata": {
        "id": "l9LIDnB5f-lq"
      }
    },
    {
      "cell_type": "markdown",
      "source": [
        "### 🌈3-What's the difference between grid search and random search?"
      ],
      "metadata": {
        "id": "P8JGbNb0gOYi"
      }
    },
    {
      "cell_type": "markdown",
      "source": [
        "The key difference from grid search is in random search, not all the values are tested and values tested are selected at random.\n",
        "the grid search for the best combination from all hyperparameter combinations, every combination of hyperparameter values is tried which can be very inefficient and it will take a long time to execute\n",
        "random search sets up a grid of hyperparameter values and searches for random combinations to train the model and score, it will not find the best hyperparameter as grid search do, but it's faster than grid search."
      ],
      "metadata": {
        "id": "2vVfCUlvgUAL"
      }
    },
    {
      "cell_type": "markdown",
      "source": [
        "### 🌈4-What's the difference between bayesian search and random search?"
      ],
      "metadata": {
        "id": "W10HAVGogcxT"
      }
    },
    {
      "cell_type": "markdown",
      "source": [
        "Unlike the grid search and random search, which treat hyperparameter sets independently, the Bayesian optimization is an informed search method, meaning that it learns from previous iterations. The number of trials in this approach is determined by the user.\n",
        "bayesian search is performing better than random search in finding best hyperparameters and it's faster than grid search."
      ],
      "metadata": {
        "id": "Onz3224Sgg9z"
      }
    },
    {
      "cell_type": "markdown",
      "source": [
        "### problem formulation"
      ],
      "metadata": {
        "id": "udjVJoN44h41"
      }
    },
    {
      "cell_type": "markdown",
      "source": [
        "### problem definition\n",
        "our problem here is that we want to build a machine learning model to predict the probability (0-1, float) (output) that the dating session will lead to a successful match. based on participants' information such as gender, income level, main home, personality characteristics (inputs), etc\n",
        "(191 features) for both training set (5909 observations) and test set (2469 observations) as inputs\n",
        "\n",
        "(1 feature) for train set (5909 observations) as output."
      ],
      "metadata": {
        "id": "BKdrI48C6WlV"
      }
    },
    {
      "cell_type": "markdown",
      "source": [
        "## Data mining function\n",
        "classification & prediction\n",
        "## Model impact\n",
        "It will act as a recommender to get people to meet their suitable partners in speed dating events.\n",
        "## The ideal solution\n",
        "Using a gradient boosting classifier with random search to search for the best hyperparameters combinations to get better ROC-AUC result (88.184%) late submission, it takes a reasonable amount of time in searching, but you need to build a suitable search space based on your resources and you can improve the ROC-AUC result by increasing hyperparameters search space."
      ],
      "metadata": {
        "id": "hJ1aokj76h_n"
      }
    },
    {
      "cell_type": "markdown",
      "source": [
        "### Experimental protocol\n",
        "\n",
        " **Data exploration**\n",
        " **Data preprocessing**\n",
        "deal with some known columns (replace null values- convert datatypes of these columns- drop some unimportant columns- convert one column to OHE columns)\n",
        "building a pipeline which will do some preprocessing on the rest of the features.\n",
        "applying knn imputer to impute missing values from these columns that I didn't preprocess manually.\n",
        "applying standard scaling on all columns since after I finished all manual preprocessing all columns in the dataset are numeric features.\n",
        " **Building model** (Build another 3 pipelines and pass preprocessing pipeline to each one of them.)\n",
        " \n",
        "** creating search spaces**  (grid, bayesian and random)\n",
        "\n",
        "**Start training each model ** many times with many hyperparameters from search space and choose the best\n",
        "\n",
        "**Start predicting the test data**"
      ],
      "metadata": {
        "id": "b-F679gF6zih"
      }
    },
    {
      "cell_type": "markdown",
      "source": [
        "### Data preparation "
      ],
      "metadata": {
        "id": "n5y5kLGLcwPV"
      }
    },
    {
      "cell_type": "code",
      "execution_count": null,
      "metadata": {
        "id": "HKTr4cXQtNDU"
      },
      "outputs": [],
      "source": [
        "#import the libraries which we will use to see the data then read the train and test data:\n",
        "import pandas as pd\n",
        "import matplotlib.pyplot as plt #for graphs \n",
        "import seaborn as sns\n",
        "train = pd.read_csv(\"train.csv\")\n",
        "test=pd.read_csv(\"test.csv\")"
      ]
    },
    {
      "cell_type": "markdown",
      "source": [
        "i intend to merge the train and test data to make preprocessing fro both of them and then split them \n",
        "as match is the target so without see the data it will not be in the test data \n",
        "so i check if there is null values \"missing values\" as if there will not be i can drop it and at the end of preprocessing i conactenate it with train data"
      ],
      "metadata": {
        "id": "38ZWAtIJJoT5"
      }
    },
    {
      "cell_type": "code",
      "source": [
        "#chech if there is a null values :\n",
        "train[\"match\"].isnull().sum() "
      ],
      "metadata": {
        "colab": {
          "base_uri": "https://localhost:8080/"
        },
        "id": "LyRtmUSTAEnH",
        "outputId": "6ec2b298-a484-49ff-92d7-6c5422484b7c"
      },
      "execution_count": null,
      "outputs": [
        {
          "output_type": "execute_result",
          "data": {
            "text/plain": [
              "0"
            ]
          },
          "metadata": {},
          "execution_count": 35
        }
      ]
    },
    {
      "cell_type": "code",
      "source": [
        "#copy the match feature to another separate column:\n",
        "col_match = train[\"match\"].copy()"
      ],
      "metadata": {
        "id": "-bKllSaFAQKe"
      },
      "execution_count": null,
      "outputs": []
    },
    {
      "cell_type": "code",
      "source": [
        "#now drop the match feature from train data:\n",
        "train.drop('match',axis=1,inplace=True)"
      ],
      "metadata": {
        "id": "yNPva2pBAWjn"
      },
      "execution_count": null,
      "outputs": []
    },
    {
      "cell_type": "code",
      "source": [
        "#merge two data in one dataframe :\n",
        "frames = [train, test]\n",
        "df = pd.concat(frames,ignore_index=True)\n",
        "df"
      ],
      "metadata": {
        "colab": {
          "base_uri": "https://localhost:8080/",
          "height": 423
        },
        "id": "KFd0_5o7Acen",
        "outputId": "127f62ef-5ec9-4fb8-a045-27e378abac7e"
      },
      "execution_count": null,
      "outputs": [
        {
          "output_type": "execute_result",
          "data": {
            "text/plain": [
              "      gender  idg  condtn  wave  round  position  positin1  order  partner  \\\n",
              "0          0    3       2    14     18         2       2.0     14       12   \n",
              "1          1   14       1     3     10         2       NaN      8        8   \n",
              "2          1   14       1    13     10         8       8.0     10       10   \n",
              "3          1   38       2     9     20        18      13.0      6        7   \n",
              "4          1   24       2    14     20         6       6.0     20       17   \n",
              "...      ...  ...     ...   ...    ...       ...       ...    ...      ...   \n",
              "8373       0   23       2    15     19        18      18.0     14       11   \n",
              "8374       0    5       1    13      9         4       4.0      4        8   \n",
              "8375       1   26       2     2     19         3       NaN     15        3   \n",
              "8376       0   19       2     9     20        11      11.0      9        2   \n",
              "8377       1   38       2    21     22        22       7.0     16        5   \n",
              "\n",
              "        pid  ...  sinc3_3  intel3_3  fun3_3  amb3_3  attr5_3  sinc5_3  \\\n",
              "0     372.0  ...      NaN       NaN     NaN     NaN      NaN      NaN   \n",
              "1      63.0  ...      8.0       8.0     7.0     8.0      NaN      NaN   \n",
              "2     331.0  ...      NaN       NaN     NaN     NaN      NaN      NaN   \n",
              "3     200.0  ...      9.0       8.0     8.0     6.0      NaN      NaN   \n",
              "4     357.0  ...      NaN       NaN     NaN     NaN      NaN      NaN   \n",
              "...     ...  ...      ...       ...     ...     ...      ...      ...   \n",
              "8373  407.0  ...      NaN       NaN     NaN     NaN      NaN      NaN   \n",
              "8374  339.0  ...      NaN       NaN     NaN     NaN      NaN      NaN   \n",
              "8375   23.0  ...      NaN       NaN     NaN     NaN      NaN      NaN   \n",
              "8376  215.0  ...      7.0      12.0    12.0     9.0      NaN      NaN   \n",
              "8377  513.0  ...      9.0       8.0     7.0     8.0      5.0      8.0   \n",
              "\n",
              "      intel5_3  fun5_3  amb5_3    id  \n",
              "0          NaN     NaN     NaN  2583  \n",
              "1          NaN     NaN     NaN  6830  \n",
              "2          NaN     NaN     NaN  4840  \n",
              "3          NaN     NaN     NaN  5508  \n",
              "4          NaN     NaN     NaN  4828  \n",
              "...        ...     ...     ...   ...  \n",
              "8373       NaN     NaN     NaN  7982  \n",
              "8374       NaN     NaN     NaN  7299  \n",
              "8375       NaN     NaN     NaN  1818  \n",
              "8376       NaN     NaN     NaN   937  \n",
              "8377       8.0     6.0     8.0  6691  \n",
              "\n",
              "[8378 rows x 191 columns]"
            ],
            "text/html": [
              "\n",
              "  <div id=\"df-f1453137-814d-41a6-b2c8-5350b1132a37\">\n",
              "    <div class=\"colab-df-container\">\n",
              "      <div>\n",
              "<style scoped>\n",
              "    .dataframe tbody tr th:only-of-type {\n",
              "        vertical-align: middle;\n",
              "    }\n",
              "\n",
              "    .dataframe tbody tr th {\n",
              "        vertical-align: top;\n",
              "    }\n",
              "\n",
              "    .dataframe thead th {\n",
              "        text-align: right;\n",
              "    }\n",
              "</style>\n",
              "<table border=\"1\" class=\"dataframe\">\n",
              "  <thead>\n",
              "    <tr style=\"text-align: right;\">\n",
              "      <th></th>\n",
              "      <th>gender</th>\n",
              "      <th>idg</th>\n",
              "      <th>condtn</th>\n",
              "      <th>wave</th>\n",
              "      <th>round</th>\n",
              "      <th>position</th>\n",
              "      <th>positin1</th>\n",
              "      <th>order</th>\n",
              "      <th>partner</th>\n",
              "      <th>pid</th>\n",
              "      <th>...</th>\n",
              "      <th>sinc3_3</th>\n",
              "      <th>intel3_3</th>\n",
              "      <th>fun3_3</th>\n",
              "      <th>amb3_3</th>\n",
              "      <th>attr5_3</th>\n",
              "      <th>sinc5_3</th>\n",
              "      <th>intel5_3</th>\n",
              "      <th>fun5_3</th>\n",
              "      <th>amb5_3</th>\n",
              "      <th>id</th>\n",
              "    </tr>\n",
              "  </thead>\n",
              "  <tbody>\n",
              "    <tr>\n",
              "      <th>0</th>\n",
              "      <td>0</td>\n",
              "      <td>3</td>\n",
              "      <td>2</td>\n",
              "      <td>14</td>\n",
              "      <td>18</td>\n",
              "      <td>2</td>\n",
              "      <td>2.0</td>\n",
              "      <td>14</td>\n",
              "      <td>12</td>\n",
              "      <td>372.0</td>\n",
              "      <td>...</td>\n",
              "      <td>NaN</td>\n",
              "      <td>NaN</td>\n",
              "      <td>NaN</td>\n",
              "      <td>NaN</td>\n",
              "      <td>NaN</td>\n",
              "      <td>NaN</td>\n",
              "      <td>NaN</td>\n",
              "      <td>NaN</td>\n",
              "      <td>NaN</td>\n",
              "      <td>2583</td>\n",
              "    </tr>\n",
              "    <tr>\n",
              "      <th>1</th>\n",
              "      <td>1</td>\n",
              "      <td>14</td>\n",
              "      <td>1</td>\n",
              "      <td>3</td>\n",
              "      <td>10</td>\n",
              "      <td>2</td>\n",
              "      <td>NaN</td>\n",
              "      <td>8</td>\n",
              "      <td>8</td>\n",
              "      <td>63.0</td>\n",
              "      <td>...</td>\n",
              "      <td>8.0</td>\n",
              "      <td>8.0</td>\n",
              "      <td>7.0</td>\n",
              "      <td>8.0</td>\n",
              "      <td>NaN</td>\n",
              "      <td>NaN</td>\n",
              "      <td>NaN</td>\n",
              "      <td>NaN</td>\n",
              "      <td>NaN</td>\n",
              "      <td>6830</td>\n",
              "    </tr>\n",
              "    <tr>\n",
              "      <th>2</th>\n",
              "      <td>1</td>\n",
              "      <td>14</td>\n",
              "      <td>1</td>\n",
              "      <td>13</td>\n",
              "      <td>10</td>\n",
              "      <td>8</td>\n",
              "      <td>8.0</td>\n",
              "      <td>10</td>\n",
              "      <td>10</td>\n",
              "      <td>331.0</td>\n",
              "      <td>...</td>\n",
              "      <td>NaN</td>\n",
              "      <td>NaN</td>\n",
              "      <td>NaN</td>\n",
              "      <td>NaN</td>\n",
              "      <td>NaN</td>\n",
              "      <td>NaN</td>\n",
              "      <td>NaN</td>\n",
              "      <td>NaN</td>\n",
              "      <td>NaN</td>\n",
              "      <td>4840</td>\n",
              "    </tr>\n",
              "    <tr>\n",
              "      <th>3</th>\n",
              "      <td>1</td>\n",
              "      <td>38</td>\n",
              "      <td>2</td>\n",
              "      <td>9</td>\n",
              "      <td>20</td>\n",
              "      <td>18</td>\n",
              "      <td>13.0</td>\n",
              "      <td>6</td>\n",
              "      <td>7</td>\n",
              "      <td>200.0</td>\n",
              "      <td>...</td>\n",
              "      <td>9.0</td>\n",
              "      <td>8.0</td>\n",
              "      <td>8.0</td>\n",
              "      <td>6.0</td>\n",
              "      <td>NaN</td>\n",
              "      <td>NaN</td>\n",
              "      <td>NaN</td>\n",
              "      <td>NaN</td>\n",
              "      <td>NaN</td>\n",
              "      <td>5508</td>\n",
              "    </tr>\n",
              "    <tr>\n",
              "      <th>4</th>\n",
              "      <td>1</td>\n",
              "      <td>24</td>\n",
              "      <td>2</td>\n",
              "      <td>14</td>\n",
              "      <td>20</td>\n",
              "      <td>6</td>\n",
              "      <td>6.0</td>\n",
              "      <td>20</td>\n",
              "      <td>17</td>\n",
              "      <td>357.0</td>\n",
              "      <td>...</td>\n",
              "      <td>NaN</td>\n",
              "      <td>NaN</td>\n",
              "      <td>NaN</td>\n",
              "      <td>NaN</td>\n",
              "      <td>NaN</td>\n",
              "      <td>NaN</td>\n",
              "      <td>NaN</td>\n",
              "      <td>NaN</td>\n",
              "      <td>NaN</td>\n",
              "      <td>4828</td>\n",
              "    </tr>\n",
              "    <tr>\n",
              "      <th>...</th>\n",
              "      <td>...</td>\n",
              "      <td>...</td>\n",
              "      <td>...</td>\n",
              "      <td>...</td>\n",
              "      <td>...</td>\n",
              "      <td>...</td>\n",
              "      <td>...</td>\n",
              "      <td>...</td>\n",
              "      <td>...</td>\n",
              "      <td>...</td>\n",
              "      <td>...</td>\n",
              "      <td>...</td>\n",
              "      <td>...</td>\n",
              "      <td>...</td>\n",
              "      <td>...</td>\n",
              "      <td>...</td>\n",
              "      <td>...</td>\n",
              "      <td>...</td>\n",
              "      <td>...</td>\n",
              "      <td>...</td>\n",
              "      <td>...</td>\n",
              "    </tr>\n",
              "    <tr>\n",
              "      <th>8373</th>\n",
              "      <td>0</td>\n",
              "      <td>23</td>\n",
              "      <td>2</td>\n",
              "      <td>15</td>\n",
              "      <td>19</td>\n",
              "      <td>18</td>\n",
              "      <td>18.0</td>\n",
              "      <td>14</td>\n",
              "      <td>11</td>\n",
              "      <td>407.0</td>\n",
              "      <td>...</td>\n",
              "      <td>NaN</td>\n",
              "      <td>NaN</td>\n",
              "      <td>NaN</td>\n",
              "      <td>NaN</td>\n",
              "      <td>NaN</td>\n",
              "      <td>NaN</td>\n",
              "      <td>NaN</td>\n",
              "      <td>NaN</td>\n",
              "      <td>NaN</td>\n",
              "      <td>7982</td>\n",
              "    </tr>\n",
              "    <tr>\n",
              "      <th>8374</th>\n",
              "      <td>0</td>\n",
              "      <td>5</td>\n",
              "      <td>1</td>\n",
              "      <td>13</td>\n",
              "      <td>9</td>\n",
              "      <td>4</td>\n",
              "      <td>4.0</td>\n",
              "      <td>4</td>\n",
              "      <td>8</td>\n",
              "      <td>339.0</td>\n",
              "      <td>...</td>\n",
              "      <td>NaN</td>\n",
              "      <td>NaN</td>\n",
              "      <td>NaN</td>\n",
              "      <td>NaN</td>\n",
              "      <td>NaN</td>\n",
              "      <td>NaN</td>\n",
              "      <td>NaN</td>\n",
              "      <td>NaN</td>\n",
              "      <td>NaN</td>\n",
              "      <td>7299</td>\n",
              "    </tr>\n",
              "    <tr>\n",
              "      <th>8375</th>\n",
              "      <td>1</td>\n",
              "      <td>26</td>\n",
              "      <td>2</td>\n",
              "      <td>2</td>\n",
              "      <td>19</td>\n",
              "      <td>3</td>\n",
              "      <td>NaN</td>\n",
              "      <td>15</td>\n",
              "      <td>3</td>\n",
              "      <td>23.0</td>\n",
              "      <td>...</td>\n",
              "      <td>NaN</td>\n",
              "      <td>NaN</td>\n",
              "      <td>NaN</td>\n",
              "      <td>NaN</td>\n",
              "      <td>NaN</td>\n",
              "      <td>NaN</td>\n",
              "      <td>NaN</td>\n",
              "      <td>NaN</td>\n",
              "      <td>NaN</td>\n",
              "      <td>1818</td>\n",
              "    </tr>\n",
              "    <tr>\n",
              "      <th>8376</th>\n",
              "      <td>0</td>\n",
              "      <td>19</td>\n",
              "      <td>2</td>\n",
              "      <td>9</td>\n",
              "      <td>20</td>\n",
              "      <td>11</td>\n",
              "      <td>11.0</td>\n",
              "      <td>9</td>\n",
              "      <td>2</td>\n",
              "      <td>215.0</td>\n",
              "      <td>...</td>\n",
              "      <td>7.0</td>\n",
              "      <td>12.0</td>\n",
              "      <td>12.0</td>\n",
              "      <td>9.0</td>\n",
              "      <td>NaN</td>\n",
              "      <td>NaN</td>\n",
              "      <td>NaN</td>\n",
              "      <td>NaN</td>\n",
              "      <td>NaN</td>\n",
              "      <td>937</td>\n",
              "    </tr>\n",
              "    <tr>\n",
              "      <th>8377</th>\n",
              "      <td>1</td>\n",
              "      <td>38</td>\n",
              "      <td>2</td>\n",
              "      <td>21</td>\n",
              "      <td>22</td>\n",
              "      <td>22</td>\n",
              "      <td>7.0</td>\n",
              "      <td>16</td>\n",
              "      <td>5</td>\n",
              "      <td>513.0</td>\n",
              "      <td>...</td>\n",
              "      <td>9.0</td>\n",
              "      <td>8.0</td>\n",
              "      <td>7.0</td>\n",
              "      <td>8.0</td>\n",
              "      <td>5.0</td>\n",
              "      <td>8.0</td>\n",
              "      <td>8.0</td>\n",
              "      <td>6.0</td>\n",
              "      <td>8.0</td>\n",
              "      <td>6691</td>\n",
              "    </tr>\n",
              "  </tbody>\n",
              "</table>\n",
              "<p>8378 rows × 191 columns</p>\n",
              "</div>\n",
              "      <button class=\"colab-df-convert\" onclick=\"convertToInteractive('df-f1453137-814d-41a6-b2c8-5350b1132a37')\"\n",
              "              title=\"Convert this dataframe to an interactive table.\"\n",
              "              style=\"display:none;\">\n",
              "        \n",
              "  <svg xmlns=\"http://www.w3.org/2000/svg\" height=\"24px\"viewBox=\"0 0 24 24\"\n",
              "       width=\"24px\">\n",
              "    <path d=\"M0 0h24v24H0V0z\" fill=\"none\"/>\n",
              "    <path d=\"M18.56 5.44l.94 2.06.94-2.06 2.06-.94-2.06-.94-.94-2.06-.94 2.06-2.06.94zm-11 1L8.5 8.5l.94-2.06 2.06-.94-2.06-.94L8.5 2.5l-.94 2.06-2.06.94zm10 10l.94 2.06.94-2.06 2.06-.94-2.06-.94-.94-2.06-.94 2.06-2.06.94z\"/><path d=\"M17.41 7.96l-1.37-1.37c-.4-.4-.92-.59-1.43-.59-.52 0-1.04.2-1.43.59L10.3 9.45l-7.72 7.72c-.78.78-.78 2.05 0 2.83L4 21.41c.39.39.9.59 1.41.59.51 0 1.02-.2 1.41-.59l7.78-7.78 2.81-2.81c.8-.78.8-2.07 0-2.86zM5.41 20L4 18.59l7.72-7.72 1.47 1.35L5.41 20z\"/>\n",
              "  </svg>\n",
              "      </button>\n",
              "      \n",
              "  <style>\n",
              "    .colab-df-container {\n",
              "      display:flex;\n",
              "      flex-wrap:wrap;\n",
              "      gap: 12px;\n",
              "    }\n",
              "\n",
              "    .colab-df-convert {\n",
              "      background-color: #E8F0FE;\n",
              "      border: none;\n",
              "      border-radius: 50%;\n",
              "      cursor: pointer;\n",
              "      display: none;\n",
              "      fill: #1967D2;\n",
              "      height: 32px;\n",
              "      padding: 0 0 0 0;\n",
              "      width: 32px;\n",
              "    }\n",
              "\n",
              "    .colab-df-convert:hover {\n",
              "      background-color: #E2EBFA;\n",
              "      box-shadow: 0px 1px 2px rgba(60, 64, 67, 0.3), 0px 1px 3px 1px rgba(60, 64, 67, 0.15);\n",
              "      fill: #174EA6;\n",
              "    }\n",
              "\n",
              "    [theme=dark] .colab-df-convert {\n",
              "      background-color: #3B4455;\n",
              "      fill: #D2E3FC;\n",
              "    }\n",
              "\n",
              "    [theme=dark] .colab-df-convert:hover {\n",
              "      background-color: #434B5C;\n",
              "      box-shadow: 0px 1px 3px 1px rgba(0, 0, 0, 0.15);\n",
              "      filter: drop-shadow(0px 1px 2px rgba(0, 0, 0, 0.3));\n",
              "      fill: #FFFFFF;\n",
              "    }\n",
              "  </style>\n",
              "\n",
              "      <script>\n",
              "        const buttonEl =\n",
              "          document.querySelector('#df-f1453137-814d-41a6-b2c8-5350b1132a37 button.colab-df-convert');\n",
              "        buttonEl.style.display =\n",
              "          google.colab.kernel.accessAllowed ? 'block' : 'none';\n",
              "\n",
              "        async function convertToInteractive(key) {\n",
              "          const element = document.querySelector('#df-f1453137-814d-41a6-b2c8-5350b1132a37');\n",
              "          const dataTable =\n",
              "            await google.colab.kernel.invokeFunction('convertToInteractive',\n",
              "                                                     [key], {});\n",
              "          if (!dataTable) return;\n",
              "\n",
              "          const docLinkHtml = 'Like what you see? Visit the ' +\n",
              "            '<a target=\"_blank\" href=https://colab.research.google.com/notebooks/data_table.ipynb>data table notebook</a>'\n",
              "            + ' to learn more about interactive tables.';\n",
              "          element.innerHTML = '';\n",
              "          dataTable['output_type'] = 'display_data';\n",
              "          await google.colab.output.renderOutput(dataTable, element);\n",
              "          const docLink = document.createElement('div');\n",
              "          docLink.innerHTML = docLinkHtml;\n",
              "          element.appendChild(docLink);\n",
              "        }\n",
              "      </script>\n",
              "    </div>\n",
              "  </div>\n",
              "  "
            ]
          },
          "metadata": {},
          "execution_count": 38
        }
      ]
    },
    {
      "cell_type": "code",
      "source": [
        "# missing values per-column \n",
        "total = df.isnull().sum().sort_values(ascending=False)\n",
        "total"
      ],
      "metadata": {
        "colab": {
          "base_uri": "https://localhost:8080/"
        },
        "id": "xIUsrlhxAff2",
        "outputId": "54a3765c-220a-4bbb-c8fb-7dfa0b8daaac"
      },
      "execution_count": null,
      "outputs": [
        {
          "output_type": "execute_result",
          "data": {
            "text/plain": [
              "num_in_3    7710\n",
              "numdat_3    6882\n",
              "expnum      6578\n",
              "amb7_2      6423\n",
              "sinc7_2     6423\n",
              "            ... \n",
              "position       0\n",
              "round          0\n",
              "wave           0\n",
              "condtn         0\n",
              "id             0\n",
              "Length: 191, dtype: int64"
            ]
          },
          "metadata": {},
          "execution_count": 39
        }
      ]
    },
    {
      "cell_type": "code",
      "source": [
        "# missing values percentage per-column\n",
        "percent = (df.isnull().sum()/df.isnull().count()).sort_values(ascending=False)\n",
        "percent"
      ],
      "metadata": {
        "colab": {
          "base_uri": "https://localhost:8080/"
        },
        "id": "3_Q83H1VAoYA",
        "outputId": "86b5889a-987e-4ba3-bdd3-0c560b65696e"
      },
      "execution_count": null,
      "outputs": [
        {
          "output_type": "execute_result",
          "data": {
            "text/plain": [
              "num_in_3    0.920267\n",
              "numdat_3    0.821437\n",
              "expnum      0.785152\n",
              "amb7_2      0.766651\n",
              "sinc7_2     0.766651\n",
              "              ...   \n",
              "position    0.000000\n",
              "round       0.000000\n",
              "wave        0.000000\n",
              "condtn      0.000000\n",
              "id          0.000000\n",
              "Length: 191, dtype: float64"
            ]
          },
          "metadata": {},
          "execution_count": 40
        }
      ]
    },
    {
      "cell_type": "code",
      "source": [
        "missing_data = pd.concat([total, percent], axis=1, keys=['Total', 'Percent'])\n",
        "f, ax = plt.subplots(figsize=(15, 6))\n",
        "plt.xticks(rotation='horizontal')\n",
        "sns.barplot(x=missing_data.index, y=missing_data['Percent'])\n",
        "plt.xlabel('df_cont', fontsize=15)\n",
        "plt.ylabel('Percent of missing values', fontsize=15)\n",
        "plt.title('Percent missing data by feature', fontsize=15)\n",
        "missing_data"
      ],
      "metadata": {
        "colab": {
          "base_uri": "https://localhost:8080/",
          "height": 979
        },
        "id": "djdFZ3pBArq_",
        "outputId": "9b8e6adc-3d4a-416d-a5d1-c6e8285b61d7"
      },
      "execution_count": null,
      "outputs": [
        {
          "output_type": "execute_result",
          "data": {
            "text/plain": [
              "          Total   Percent\n",
              "num_in_3   7710  0.920267\n",
              "numdat_3   6882  0.821437\n",
              "expnum     6578  0.785152\n",
              "amb7_2     6423  0.766651\n",
              "sinc7_2    6423  0.766651\n",
              "...         ...       ...\n",
              "position      0  0.000000\n",
              "round         0  0.000000\n",
              "wave          0  0.000000\n",
              "condtn        0  0.000000\n",
              "id            0  0.000000\n",
              "\n",
              "[191 rows x 2 columns]"
            ],
            "text/html": [
              "\n",
              "  <div id=\"df-0c8b8c28-017b-4821-8aca-79132e516d34\">\n",
              "    <div class=\"colab-df-container\">\n",
              "      <div>\n",
              "<style scoped>\n",
              "    .dataframe tbody tr th:only-of-type {\n",
              "        vertical-align: middle;\n",
              "    }\n",
              "\n",
              "    .dataframe tbody tr th {\n",
              "        vertical-align: top;\n",
              "    }\n",
              "\n",
              "    .dataframe thead th {\n",
              "        text-align: right;\n",
              "    }\n",
              "</style>\n",
              "<table border=\"1\" class=\"dataframe\">\n",
              "  <thead>\n",
              "    <tr style=\"text-align: right;\">\n",
              "      <th></th>\n",
              "      <th>Total</th>\n",
              "      <th>Percent</th>\n",
              "    </tr>\n",
              "  </thead>\n",
              "  <tbody>\n",
              "    <tr>\n",
              "      <th>num_in_3</th>\n",
              "      <td>7710</td>\n",
              "      <td>0.920267</td>\n",
              "    </tr>\n",
              "    <tr>\n",
              "      <th>numdat_3</th>\n",
              "      <td>6882</td>\n",
              "      <td>0.821437</td>\n",
              "    </tr>\n",
              "    <tr>\n",
              "      <th>expnum</th>\n",
              "      <td>6578</td>\n",
              "      <td>0.785152</td>\n",
              "    </tr>\n",
              "    <tr>\n",
              "      <th>amb7_2</th>\n",
              "      <td>6423</td>\n",
              "      <td>0.766651</td>\n",
              "    </tr>\n",
              "    <tr>\n",
              "      <th>sinc7_2</th>\n",
              "      <td>6423</td>\n",
              "      <td>0.766651</td>\n",
              "    </tr>\n",
              "    <tr>\n",
              "      <th>...</th>\n",
              "      <td>...</td>\n",
              "      <td>...</td>\n",
              "    </tr>\n",
              "    <tr>\n",
              "      <th>position</th>\n",
              "      <td>0</td>\n",
              "      <td>0.000000</td>\n",
              "    </tr>\n",
              "    <tr>\n",
              "      <th>round</th>\n",
              "      <td>0</td>\n",
              "      <td>0.000000</td>\n",
              "    </tr>\n",
              "    <tr>\n",
              "      <th>wave</th>\n",
              "      <td>0</td>\n",
              "      <td>0.000000</td>\n",
              "    </tr>\n",
              "    <tr>\n",
              "      <th>condtn</th>\n",
              "      <td>0</td>\n",
              "      <td>0.000000</td>\n",
              "    </tr>\n",
              "    <tr>\n",
              "      <th>id</th>\n",
              "      <td>0</td>\n",
              "      <td>0.000000</td>\n",
              "    </tr>\n",
              "  </tbody>\n",
              "</table>\n",
              "<p>191 rows × 2 columns</p>\n",
              "</div>\n",
              "      <button class=\"colab-df-convert\" onclick=\"convertToInteractive('df-0c8b8c28-017b-4821-8aca-79132e516d34')\"\n",
              "              title=\"Convert this dataframe to an interactive table.\"\n",
              "              style=\"display:none;\">\n",
              "        \n",
              "  <svg xmlns=\"http://www.w3.org/2000/svg\" height=\"24px\"viewBox=\"0 0 24 24\"\n",
              "       width=\"24px\">\n",
              "    <path d=\"M0 0h24v24H0V0z\" fill=\"none\"/>\n",
              "    <path d=\"M18.56 5.44l.94 2.06.94-2.06 2.06-.94-2.06-.94-.94-2.06-.94 2.06-2.06.94zm-11 1L8.5 8.5l.94-2.06 2.06-.94-2.06-.94L8.5 2.5l-.94 2.06-2.06.94zm10 10l.94 2.06.94-2.06 2.06-.94-2.06-.94-.94-2.06-.94 2.06-2.06.94z\"/><path d=\"M17.41 7.96l-1.37-1.37c-.4-.4-.92-.59-1.43-.59-.52 0-1.04.2-1.43.59L10.3 9.45l-7.72 7.72c-.78.78-.78 2.05 0 2.83L4 21.41c.39.39.9.59 1.41.59.51 0 1.02-.2 1.41-.59l7.78-7.78 2.81-2.81c.8-.78.8-2.07 0-2.86zM5.41 20L4 18.59l7.72-7.72 1.47 1.35L5.41 20z\"/>\n",
              "  </svg>\n",
              "      </button>\n",
              "      \n",
              "  <style>\n",
              "    .colab-df-container {\n",
              "      display:flex;\n",
              "      flex-wrap:wrap;\n",
              "      gap: 12px;\n",
              "    }\n",
              "\n",
              "    .colab-df-convert {\n",
              "      background-color: #E8F0FE;\n",
              "      border: none;\n",
              "      border-radius: 50%;\n",
              "      cursor: pointer;\n",
              "      display: none;\n",
              "      fill: #1967D2;\n",
              "      height: 32px;\n",
              "      padding: 0 0 0 0;\n",
              "      width: 32px;\n",
              "    }\n",
              "\n",
              "    .colab-df-convert:hover {\n",
              "      background-color: #E2EBFA;\n",
              "      box-shadow: 0px 1px 2px rgba(60, 64, 67, 0.3), 0px 1px 3px 1px rgba(60, 64, 67, 0.15);\n",
              "      fill: #174EA6;\n",
              "    }\n",
              "\n",
              "    [theme=dark] .colab-df-convert {\n",
              "      background-color: #3B4455;\n",
              "      fill: #D2E3FC;\n",
              "    }\n",
              "\n",
              "    [theme=dark] .colab-df-convert:hover {\n",
              "      background-color: #434B5C;\n",
              "      box-shadow: 0px 1px 3px 1px rgba(0, 0, 0, 0.15);\n",
              "      filter: drop-shadow(0px 1px 2px rgba(0, 0, 0, 0.3));\n",
              "      fill: #FFFFFF;\n",
              "    }\n",
              "  </style>\n",
              "\n",
              "      <script>\n",
              "        const buttonEl =\n",
              "          document.querySelector('#df-0c8b8c28-017b-4821-8aca-79132e516d34 button.colab-df-convert');\n",
              "        buttonEl.style.display =\n",
              "          google.colab.kernel.accessAllowed ? 'block' : 'none';\n",
              "\n",
              "        async function convertToInteractive(key) {\n",
              "          const element = document.querySelector('#df-0c8b8c28-017b-4821-8aca-79132e516d34');\n",
              "          const dataTable =\n",
              "            await google.colab.kernel.invokeFunction('convertToInteractive',\n",
              "                                                     [key], {});\n",
              "          if (!dataTable) return;\n",
              "\n",
              "          const docLinkHtml = 'Like what you see? Visit the ' +\n",
              "            '<a target=\"_blank\" href=https://colab.research.google.com/notebooks/data_table.ipynb>data table notebook</a>'\n",
              "            + ' to learn more about interactive tables.';\n",
              "          element.innerHTML = '';\n",
              "          dataTable['output_type'] = 'display_data';\n",
              "          await google.colab.output.renderOutput(dataTable, element);\n",
              "          const docLink = document.createElement('div');\n",
              "          docLink.innerHTML = docLinkHtml;\n",
              "          element.appendChild(docLink);\n",
              "        }\n",
              "      </script>\n",
              "    </div>\n",
              "  </div>\n",
              "  "
            ]
          },
          "metadata": {},
          "execution_count": 41
        },
        {
          "output_type": "display_data",
          "data": {
            "text/plain": [
              "<Figure size 1500x600 with 1 Axes>"
            ],
            "image/png": "[encoded data removed]"
          },
          "metadata": {}
        }
      ]
    },
    {
      "cell_type": "code",
      "source": [
        "# i noticed that there is many null values so i will drop columns which has more than 70% of null values :\n",
        "df1 = df.loc[:, train.isnull().mean() < .7]"
      ],
      "metadata": {
        "id": "e1ZEflDBA1gw"
      },
      "execution_count": null,
      "outputs": []
    },
    {
      "cell_type": "code",
      "source": [
        "# missing values percentage per-column\n",
        "percent = (df1.isnull().sum()/df1.isnull().count()).sort_values(ascending=False)\n",
        "percent"
      ],
      "metadata": {
        "colab": {
          "base_uri": "https://localhost:8080/"
        },
        "id": "z4G-m1MFBjAP",
        "outputId": "2b10dd6d-dfd2-4cb9-cd31-2c243e3934d9"
      },
      "execution_count": null,
      "outputs": [
        {
          "output_type": "execute_result",
          "data": {
            "text/plain": [
              "attr2_3     0.646813\n",
              "intel2_3    0.646813\n",
              "attr4_3     0.646813\n",
              "sinc4_3     0.646813\n",
              "intel4_3    0.646813\n",
              "              ...   \n",
              "position    0.000000\n",
              "round       0.000000\n",
              "wave        0.000000\n",
              "condtn      0.000000\n",
              "id          0.000000\n",
              "Length: 170, dtype: float64"
            ]
          },
          "metadata": {},
          "execution_count": 43
        }
      ]
    },
    {
      "cell_type": "code",
      "source": [
        "#to select the object features:\n",
        "df1.select_dtypes(include =['object'])"
      ],
      "metadata": {
        "colab": {
          "base_uri": "https://localhost:8080/",
          "height": 423
        },
        "id": "qgTFrDxWBnqB",
        "outputId": "2d41f81e-ed71-4c6d-c728-c04b4aa16fc1"
      },
      "execution_count": null,
      "outputs": [
        {
          "output_type": "execute_result",
          "data": {
            "text/plain": [
              "                                       field  \\\n",
              "0     Ed.D. in higher education policy at TC   \n",
              "1                                Engineering   \n",
              "2                             Urban Planning   \n",
              "3                      International Affairs   \n",
              "4                                   Business   \n",
              "...                                      ...   \n",
              "8373              Neuroscience and Education   \n",
              "8374                       School Psychology   \n",
              "8375                                     Law   \n",
              "8376                             Mathematics   \n",
              "8377              General management/finance   \n",
              "\n",
              "                                              undergra    mn_sat    tuition  \\\n",
              "0                     University of Michigan-Ann Arbor  1,290.00  21,645.00   \n",
              "1                                                  NaN       NaN        NaN   \n",
              "2     Rizvi College of Architecture, Bombay University       NaN        NaN   \n",
              "3                                                  NaN       NaN        NaN   \n",
              "4                                      Harvard College  1,400.00  26,019.00   \n",
              "...                                                ...       ...        ...   \n",
              "8373                                          Columbia  1,430.00  26,908.00   \n",
              "8374                               Bucknell University  1,290.00  25,335.00   \n",
              "8375                                               NaN       NaN        NaN   \n",
              "8376                                               NaN       NaN        NaN   \n",
              "8377                                       LUISS, Rome       NaN        NaN   \n",
              "\n",
              "                from zipcode     income                             career  \n",
              "0      Palo Alto, CA     NaN        NaN               University President  \n",
              "1         Boston, MA   2,021        NaN  Engineer or iBanker or consultant  \n",
              "2      Bombay, India     NaN        NaN             Real Estate Consulting  \n",
              "3     Washington, DC  10,471  45,300.00                     public service  \n",
              "4        Midwest USA  66,208  46,138.00                          undecided  \n",
              "...              ...     ...        ...                                ...  \n",
              "8373       Hong Kong       0        NaN                           Academic  \n",
              "8374        Erie, PA     NaN        NaN                school psychologist  \n",
              "8375        Brooklyn  11,204  26,482.00     Intellectual Property Attorney  \n",
              "8376          Vestal  13,850  42,640.00                  college professor  \n",
              "8377           Italy     136        NaN      General management/consulting  \n",
              "\n",
              "[8378 rows x 8 columns]"
            ],
            "text/html": [
              "\n",
              "  <div id=\"df-d61052e1-3943-420c-a9d8-e8b557e0d853\">\n",
              "    <div class=\"colab-df-container\">\n",
              "      <div>\n",
              "<style scoped>\n",
              "    .dataframe tbody tr th:only-of-type {\n",
              "        vertical-align: middle;\n",
              "    }\n",
              "\n",
              "    .dataframe tbody tr th {\n",
              "        vertical-align: top;\n",
              "    }\n",
              "\n",
              "    .dataframe thead th {\n",
              "        text-align: right;\n",
              "    }\n",
              "</style>\n",
              "<table border=\"1\" class=\"dataframe\">\n",
              "  <thead>\n",
              "    <tr style=\"text-align: right;\">\n",
              "      <th></th>\n",
              "      <th>field</th>\n",
              "      <th>undergra</th>\n",
              "      <th>mn_sat</th>\n",
              "      <th>tuition</th>\n",
              "      <th>from</th>\n",
              "      <th>zipcode</th>\n",
              "      <th>income</th>\n",
              "      <th>career</th>\n",
              "    </tr>\n",
              "  </thead>\n",
              "  <tbody>\n",
              "    <tr>\n",
              "      <th>0</th>\n",
              "      <td>Ed.D. in higher education policy at TC</td>\n",
              "      <td>University of Michigan-Ann Arbor</td>\n",
              "      <td>1,290.00</td>\n",
              "      <td>21,645.00</td>\n",
              "      <td>Palo Alto, CA</td>\n",
              "      <td>NaN</td>\n",
              "      <td>NaN</td>\n",
              "      <td>University President</td>\n",
              "    </tr>\n",
              "    <tr>\n",
              "      <th>1</th>\n",
              "      <td>Engineering</td>\n",
              "      <td>NaN</td>\n",
              "      <td>NaN</td>\n",
              "      <td>NaN</td>\n",
              "      <td>Boston, MA</td>\n",
              "      <td>2,021</td>\n",
              "      <td>NaN</td>\n",
              "      <td>Engineer or iBanker or consultant</td>\n",
              "    </tr>\n",
              "    <tr>\n",
              "      <th>2</th>\n",
              "      <td>Urban Planning</td>\n",
              "      <td>Rizvi College of Architecture, Bombay University</td>\n",
              "      <td>NaN</td>\n",
              "      <td>NaN</td>\n",
              "      <td>Bombay, India</td>\n",
              "      <td>NaN</td>\n",
              "      <td>NaN</td>\n",
              "      <td>Real Estate Consulting</td>\n",
              "    </tr>\n",
              "    <tr>\n",
              "      <th>3</th>\n",
              "      <td>International Affairs</td>\n",
              "      <td>NaN</td>\n",
              "      <td>NaN</td>\n",
              "      <td>NaN</td>\n",
              "      <td>Washington, DC</td>\n",
              "      <td>10,471</td>\n",
              "      <td>45,300.00</td>\n",
              "      <td>public service</td>\n",
              "    </tr>\n",
              "    <tr>\n",
              "      <th>4</th>\n",
              "      <td>Business</td>\n",
              "      <td>Harvard College</td>\n",
              "      <td>1,400.00</td>\n",
              "      <td>26,019.00</td>\n",
              "      <td>Midwest USA</td>\n",
              "      <td>66,208</td>\n",
              "      <td>46,138.00</td>\n",
              "      <td>undecided</td>\n",
              "    </tr>\n",
              "    <tr>\n",
              "      <th>...</th>\n",
              "      <td>...</td>\n",
              "      <td>...</td>\n",
              "      <td>...</td>\n",
              "      <td>...</td>\n",
              "      <td>...</td>\n",
              "      <td>...</td>\n",
              "      <td>...</td>\n",
              "      <td>...</td>\n",
              "    </tr>\n",
              "    <tr>\n",
              "      <th>8373</th>\n",
              "      <td>Neuroscience and Education</td>\n",
              "      <td>Columbia</td>\n",
              "      <td>1,430.00</td>\n",
              "      <td>26,908.00</td>\n",
              "      <td>Hong Kong</td>\n",
              "      <td>0</td>\n",
              "      <td>NaN</td>\n",
              "      <td>Academic</td>\n",
              "    </tr>\n",
              "    <tr>\n",
              "      <th>8374</th>\n",
              "      <td>School Psychology</td>\n",
              "      <td>Bucknell University</td>\n",
              "      <td>1,290.00</td>\n",
              "      <td>25,335.00</td>\n",
              "      <td>Erie, PA</td>\n",
              "      <td>NaN</td>\n",
              "      <td>NaN</td>\n",
              "      <td>school psychologist</td>\n",
              "    </tr>\n",
              "    <tr>\n",
              "      <th>8375</th>\n",
              "      <td>Law</td>\n",
              "      <td>NaN</td>\n",
              "      <td>NaN</td>\n",
              "      <td>NaN</td>\n",
              "      <td>Brooklyn</td>\n",
              "      <td>11,204</td>\n",
              "      <td>26,482.00</td>\n",
              "      <td>Intellectual Property Attorney</td>\n",
              "    </tr>\n",
              "    <tr>\n",
              "      <th>8376</th>\n",
              "      <td>Mathematics</td>\n",
              "      <td>NaN</td>\n",
              "      <td>NaN</td>\n",
              "      <td>NaN</td>\n",
              "      <td>Vestal</td>\n",
              "      <td>13,850</td>\n",
              "      <td>42,640.00</td>\n",
              "      <td>college professor</td>\n",
              "    </tr>\n",
              "    <tr>\n",
              "      <th>8377</th>\n",
              "      <td>General management/finance</td>\n",
              "      <td>LUISS, Rome</td>\n",
              "      <td>NaN</td>\n",
              "      <td>NaN</td>\n",
              "      <td>Italy</td>\n",
              "      <td>136</td>\n",
              "      <td>NaN</td>\n",
              "      <td>General management/consulting</td>\n",
              "    </tr>\n",
              "  </tbody>\n",
              "</table>\n",
              "<p>8378 rows × 8 columns</p>\n",
              "</div>\n",
              "      <button class=\"colab-df-convert\" onclick=\"convertToInteractive('df-d61052e1-3943-420c-a9d8-e8b557e0d853')\"\n",
              "              title=\"Convert this dataframe to an interactive table.\"\n",
              "              style=\"display:none;\">\n",
              "        \n",
              "  <svg xmlns=\"http://www.w3.org/2000/svg\" height=\"24px\"viewBox=\"0 0 24 24\"\n",
              "       width=\"24px\">\n",
              "    <path d=\"M0 0h24v24H0V0z\" fill=\"none\"/>\n",
              "    <path d=\"M18.56 5.44l.94 2.06.94-2.06 2.06-.94-2.06-.94-.94-2.06-.94 2.06-2.06.94zm-11 1L8.5 8.5l.94-2.06 2.06-.94-2.06-.94L8.5 2.5l-.94 2.06-2.06.94zm10 10l.94 2.06.94-2.06 2.06-.94-2.06-.94-.94-2.06-.94 2.06-2.06.94z\"/><path d=\"M17.41 7.96l-1.37-1.37c-.4-.4-.92-.59-1.43-.59-.52 0-1.04.2-1.43.59L10.3 9.45l-7.72 7.72c-.78.78-.78 2.05 0 2.83L4 21.41c.39.39.9.59 1.41.59.51 0 1.02-.2 1.41-.59l7.78-7.78 2.81-2.81c.8-.78.8-2.07 0-2.86zM5.41 20L4 18.59l7.72-7.72 1.47 1.35L5.41 20z\"/>\n",
              "  </svg>\n",
              "      </button>\n",
              "      \n",
              "  <style>\n",
              "    .colab-df-container {\n",
              "      display:flex;\n",
              "      flex-wrap:wrap;\n",
              "      gap: 12px;\n",
              "    }\n",
              "\n",
              "    .colab-df-convert {\n",
              "      background-color: #E8F0FE;\n",
              "      border: none;\n",
              "      border-radius: 50%;\n",
              "      cursor: pointer;\n",
              "      display: none;\n",
              "      fill: #1967D2;\n",
              "      height: 32px;\n",
              "      padding: 0 0 0 0;\n",
              "      width: 32px;\n",
              "    }\n",
              "\n",
              "    .colab-df-convert:hover {\n",
              "      background-color: #E2EBFA;\n",
              "      box-shadow: 0px 1px 2px rgba(60, 64, 67, 0.3), 0px 1px 3px 1px rgba(60, 64, 67, 0.15);\n",
              "      fill: #174EA6;\n",
              "    }\n",
              "\n",
              "    [theme=dark] .colab-df-convert {\n",
              "      background-color: #3B4455;\n",
              "      fill: #D2E3FC;\n",
              "    }\n",
              "\n",
              "    [theme=dark] .colab-df-convert:hover {\n",
              "      background-color: #434B5C;\n",
              "      box-shadow: 0px 1px 3px 1px rgba(0, 0, 0, 0.15);\n",
              "      filter: drop-shadow(0px 1px 2px rgba(0, 0, 0, 0.3));\n",
              "      fill: #FFFFFF;\n",
              "    }\n",
              "  </style>\n",
              "\n",
              "      <script>\n",
              "        const buttonEl =\n",
              "          document.querySelector('#df-d61052e1-3943-420c-a9d8-e8b557e0d853 button.colab-df-convert');\n",
              "        buttonEl.style.display =\n",
              "          google.colab.kernel.accessAllowed ? 'block' : 'none';\n",
              "\n",
              "        async function convertToInteractive(key) {\n",
              "          const element = document.querySelector('#df-d61052e1-3943-420c-a9d8-e8b557e0d853');\n",
              "          const dataTable =\n",
              "            await google.colab.kernel.invokeFunction('convertToInteractive',\n",
              "                                                     [key], {});\n",
              "          if (!dataTable) return;\n",
              "\n",
              "          const docLinkHtml = 'Like what you see? Visit the ' +\n",
              "            '<a target=\"_blank\" href=https://colab.research.google.com/notebooks/data_table.ipynb>data table notebook</a>'\n",
              "            + ' to learn more about interactive tables.';\n",
              "          element.innerHTML = '';\n",
              "          dataTable['output_type'] = 'display_data';\n",
              "          await google.colab.output.renderOutput(dataTable, element);\n",
              "          const docLink = document.createElement('div');\n",
              "          docLink.innerHTML = docLinkHtml;\n",
              "          element.appendChild(docLink);\n",
              "        }\n",
              "      </script>\n",
              "    </div>\n",
              "  </div>\n",
              "  "
            ]
          },
          "metadata": {},
          "execution_count": 44
        }
      ]
    },
    {
      "cell_type": "code",
      "source": [
        "#i droped the features that we didnt use them as there are features have the same perpose :\n",
        "df1.drop(['field','zipcode','career'],axis=1,inplace=True)"
      ],
      "metadata": {
        "colab": {
          "base_uri": "https://localhost:8080/"
        },
        "id": "EHUlT36EB-1w",
        "outputId": "e5aa753a-b0cb-42e1-fa64-979dd37a9467"
      },
      "execution_count": null,
      "outputs": [
        {
          "output_type": "stream",
          "name": "stderr",
          "text": [
            "<ipython-input-45-8b8296b392a4>:2: SettingWithCopyWarning: \n",
            "A value is trying to be set on a copy of a slice from a DataFrame\n",
            "\n",
            "See the caveats in the documentation: https://pandas.pydata.org/pandas-docs/stable/user_guide/indexing.html#returning-a-view-versus-a-copy\n",
            "  df1.drop(['field','zipcode','career'],axis=1,inplace=True)\n"
          ]
        }
      ]
    },
    {
      "cell_type": "code",
      "source": [
        "#convert the object features to category : \n",
        "df1['from'] = df1['from'].astype(\"category\")"
      ],
      "metadata": {
        "colab": {
          "base_uri": "https://localhost:8080/"
        },
        "id": "eq0r7P_07NeS",
        "outputId": "ad0565eb-9277-4af6-fb12-79b420144283"
      },
      "execution_count": null,
      "outputs": [
        {
          "output_type": "stream",
          "name": "stderr",
          "text": [
            "<ipython-input-46-d4ec6b4a38ee>:2: SettingWithCopyWarning: \n",
            "A value is trying to be set on a copy of a slice from a DataFrame.\n",
            "Try using .loc[row_indexer,col_indexer] = value instead\n",
            "\n",
            "See the caveats in the documentation: https://pandas.pydata.org/pandas-docs/stable/user_guide/indexing.html#returning-a-view-versus-a-copy\n",
            "  df1['from'] = df1['from'].astype(\"category\")\n"
          ]
        }
      ]
    },
    {
      "cell_type": "code",
      "source": [
        "df1['income'] = df1['income'].astype(\"category\")"
      ],
      "metadata": {
        "colab": {
          "base_uri": "https://localhost:8080/"
        },
        "id": "N9tUi-xHUK6j",
        "outputId": "df52592b-c871-4c40-fd64-349bf5eeff19"
      },
      "execution_count": null,
      "outputs": [
        {
          "output_type": "stream",
          "name": "stderr",
          "text": [
            "<ipython-input-47-93b70abaa369>:1: SettingWithCopyWarning: \n",
            "A value is trying to be set on a copy of a slice from a DataFrame.\n",
            "Try using .loc[row_indexer,col_indexer] = value instead\n",
            "\n",
            "See the caveats in the documentation: https://pandas.pydata.org/pandas-docs/stable/user_guide/indexing.html#returning-a-view-versus-a-copy\n",
            "  df1['income'] = df1['income'].astype(\"category\")\n"
          ]
        }
      ]
    },
    {
      "cell_type": "code",
      "source": [
        "df1['undergra'] = df1['undergra'].astype(\"category\")"
      ],
      "metadata": {
        "colab": {
          "base_uri": "https://localhost:8080/"
        },
        "id": "5JuouLjIT0X4",
        "outputId": "dc14a437-cd31-4f9f-df7a-372fee826be6"
      },
      "execution_count": null,
      "outputs": [
        {
          "output_type": "stream",
          "name": "stderr",
          "text": [
            "<ipython-input-48-3264c5393f3d>:1: SettingWithCopyWarning: \n",
            "A value is trying to be set on a copy of a slice from a DataFrame.\n",
            "Try using .loc[row_indexer,col_indexer] = value instead\n",
            "\n",
            "See the caveats in the documentation: https://pandas.pydata.org/pandas-docs/stable/user_guide/indexing.html#returning-a-view-versus-a-copy\n",
            "  df1['undergra'] = df1['undergra'].astype(\"category\")\n"
          ]
        }
      ]
    },
    {
      "cell_type": "code",
      "source": [
        "#split two dataframes:\n",
        "#X_train split\n",
        "train_splitted = df1.iloc[:train.shape[0],:]\n",
        "\n",
        "#split X_test\n",
        "test_splitted = df1.iloc[train.shape[0]:,:]"
      ],
      "metadata": {
        "id": "zCOCqDASrEho"
      },
      "execution_count": null,
      "outputs": []
    },
    {
      "cell_type": "code",
      "source": [
        "\n",
        "train_splitted.shape"
      ],
      "metadata": {
        "colab": {
          "base_uri": "https://localhost:8080/"
        },
        "id": "piWHOtRGseF6",
        "outputId": "3f75c404-7e4a-46c2-de11-427059f1c151"
      },
      "execution_count": null,
      "outputs": [
        {
          "output_type": "execute_result",
          "data": {
            "text/plain": [
              "(5909, 167)"
            ]
          },
          "metadata": {},
          "execution_count": 50
        }
      ]
    },
    {
      "cell_type": "code",
      "source": [
        "test_splitted.shape"
      ],
      "metadata": {
        "colab": {
          "base_uri": "https://localhost:8080/"
        },
        "id": "9JsgS7e2sjsJ",
        "outputId": "13177de1-c31b-4972-dccf-00b03b968029"
      },
      "execution_count": null,
      "outputs": [
        {
          "output_type": "execute_result",
          "data": {
            "text/plain": [
              "(2469, 167)"
            ]
          },
          "metadata": {},
          "execution_count": 51
        }
      ]
    },
    {
      "cell_type": "code",
      "source": [
        "#concatenate the match colmn to train data:\n",
        "train_splitted = pd.concat([train_splitted,col_match],axis=1)"
      ],
      "metadata": {
        "id": "yKw0tkjSso2Z"
      },
      "execution_count": null,
      "outputs": []
    },
    {
      "cell_type": "code",
      "source": [
        "train_splitted.shape"
      ],
      "metadata": {
        "colab": {
          "base_uri": "https://localhost:8080/"
        },
        "id": "J4fmSXPbtSnq",
        "outputId": "47815adf-80b9-47ff-b98b-dd16727bb32f"
      },
      "execution_count": null,
      "outputs": [
        {
          "output_type": "execute_result",
          "data": {
            "text/plain": [
              "(5909, 168)"
            ]
          },
          "metadata": {},
          "execution_count": 53
        }
      ]
    },
    {
      "cell_type": "code",
      "source": [
        "# now we can split the data\n",
        "import numpy as np\n",
        "from sklearn.model_selection import train_test_split\n",
        "\n",
        "y = train_splitted['match'] # lower case for vector\n",
        "X = train_splitted.drop('match', axis=1) # upper case for matrix\n",
        "print('original shape', X.shape, y.shape)\n",
        "\n",
        "X_train, X_val, y_train, y_val = train_test_split(\n",
        "    X, y, test_size=0.33, random_state=42)\n",
        "\n"
      ],
      "metadata": {
        "colab": {
          "base_uri": "https://localhost:8080/"
        },
        "id": "6Jrh8IIruJRE",
        "outputId": "13ce6245-d342-48af-afee-fa1870265439"
      },
      "execution_count": null,
      "outputs": [
        {
          "output_type": "stream",
          "name": "stdout",
          "text": [
            "original shape (5909, 167) (5909,)\n"
          ]
        }
      ]
    },
    {
      "cell_type": "code",
      "source": [
        "df1.info()"
      ],
      "metadata": {
        "colab": {
          "base_uri": "https://localhost:8080/"
        },
        "id": "ff-z-z7gzM8C",
        "outputId": "63391fde-d3d7-4410-e799-5294e107aaff"
      },
      "execution_count": null,
      "outputs": [
        {
          "output_type": "stream",
          "name": "stdout",
          "text": [
            "<class 'pandas.core.frame.DataFrame'>\n",
            "RangeIndex: 8378 entries, 0 to 8377\n",
            "Columns: 167 entries, gender to id\n",
            "dtypes: category(3), float64(152), int64(10), object(2)\n",
            "memory usage: 10.6+ MB\n"
          ]
        }
      ]
    },
    {
      "cell_type": "markdown",
      "source": [
        "### A Tunable Pipeline"
      ],
      "metadata": {
        "id": "LLJkS-J0c5iU"
      }
    },
    {
      "cell_type": "markdown",
      "source": [
        "Pipelines are a simple way to keep your data preprocessing and modeling code organized. Specifically, a pipeline bundles preprocessing and modeling steps so you can use the whole bundle as if it were a single step.                         \n",
        "Step 1: Define Preprocessing Steps ,\n",
        "Step 2: Define the Model,\n",
        "Step 3: Create and Evaluate the Pipeline"
      ],
      "metadata": {
        "id": "qzTJ5igjbTiT"
      }
    },
    {
      "cell_type": "code",
      "source": [
        "# we extract numeric features and categorical features names\n",
        "# for later use\n",
        "\n",
        "# numeric features can be selected by: (based on the df2.info() output )\n",
        "features_numeric = list(df1.select_dtypes(include=['float64', 'int64']))\n",
        "\n",
        "# categorical features can be selected by: (based on the df2.info() output )\n",
        "features_categorical = list(df1.select_dtypes(include=['category']))\n",
        "\n",
        "print('numeric features:', features_numeric)\n",
        "print('categorical features:', features_categorical)"
      ],
      "metadata": {
        "colab": {
          "base_uri": "https://localhost:8080/"
        },
        "id": "WDqN-rgfu739",
        "outputId": "4de6e855-2839-4db3-8fd3-e5afd610cfbe"
      },
      "execution_count": null,
      "outputs": [
        {
          "output_type": "stream",
          "name": "stdout",
          "text": [
            "numeric features: ['gender', 'idg', 'condtn', 'wave', 'round', 'position', 'positin1', 'order', 'partner', 'pid', 'int_corr', 'samerace', 'age_o', 'race_o', 'pf_o_att', 'pf_o_sin', 'pf_o_int', 'pf_o_fun', 'pf_o_amb', 'pf_o_sha', 'attr_o', 'sinc_o', 'intel_o', 'fun_o', 'amb_o', 'shar_o', 'like_o', 'prob_o', 'met_o', 'age', 'field_cd', 'race', 'imprace', 'imprelig', 'goal', 'date', 'go_out', 'career_c', 'sports', 'tvsports', 'exercise', 'dining', 'museums', 'art', 'hiking', 'gaming', 'clubbing', 'reading', 'tv', 'theater', 'movies', 'concerts', 'music', 'shopping', 'yoga', 'exphappy', 'attr1_1', 'sinc1_1', 'intel1_1', 'fun1_1', 'amb1_1', 'shar1_1', 'attr4_1', 'sinc4_1', 'intel4_1', 'fun4_1', 'amb4_1', 'shar4_1', 'attr2_1', 'sinc2_1', 'intel2_1', 'fun2_1', 'amb2_1', 'shar2_1', 'attr3_1', 'sinc3_1', 'fun3_1', 'intel3_1', 'amb3_1', 'attr5_1', 'sinc5_1', 'intel5_1', 'fun5_1', 'amb5_1', 'attr', 'sinc', 'intel', 'fun', 'amb', 'shar', 'like', 'prob', 'met', 'match_es', 'attr1_s', 'sinc1_s', 'intel1_s', 'fun1_s', 'amb1_s', 'shar1_s', 'attr3_s', 'sinc3_s', 'intel3_s', 'fun3_s', 'amb3_s', 'satis_2', 'length', 'numdat_2', 'attr1_2', 'sinc1_2', 'intel1_2', 'fun1_2', 'amb1_2', 'shar1_2', 'attr4_2', 'sinc4_2', 'intel4_2', 'fun4_2', 'amb4_2', 'shar4_2', 'attr2_2', 'sinc2_2', 'intel2_2', 'fun2_2', 'amb2_2', 'shar2_2', 'attr3_2', 'sinc3_2', 'intel3_2', 'fun3_2', 'amb3_2', 'attr5_2', 'sinc5_2', 'intel5_2', 'fun5_2', 'amb5_2', 'you_call', 'them_cal', 'date_3', 'attr1_3', 'sinc1_3', 'intel1_3', 'fun1_3', 'amb1_3', 'shar1_3', 'attr4_3', 'sinc4_3', 'intel4_3', 'fun4_3', 'amb4_3', 'shar4_3', 'attr2_3', 'sinc2_3', 'intel2_3', 'fun2_3', 'amb2_3', 'attr3_3', 'sinc3_3', 'intel3_3', 'fun3_3', 'amb3_3', 'id']\n",
            "categorical features: ['undergra', 'from', 'income']\n"
          ]
        }
      ]
    },
    {
      "cell_type": "code",
      "source": [
        "#import the libraries that we will use in pipline and model :\n",
        "import numpy as np\n",
        "from sklearn.compose import ColumnTransformer #we use the ColumnTransformer class to bundle together different preprocessing steps.\n",
        "from sklearn.pipeline import Pipeline\n",
        "from sklearn.impute import SimpleImputer #fill missing falues \n",
        "from sklearn.preprocessing import StandardScaler, OneHotEncoder\n",
        "from sklearn.linear_model import LogisticRegression\n",
        "from sklearn.ensemble import RandomForestClassifier \n",
        "from sklearn.model_selection import train_test_split, GridSearchCV\n",
        "from xgboost.sklearn import XGBClassifier\n",
        "\n",
        "np.random.seed(0)\n",
        "\n",
        "# define a pipe line for numeric feature preprocessing\n",
        "# we gave them a name so we can set their hyperparameters\n",
        "transformer_numeric = Pipeline(\n",
        "    steps=[\n",
        "        ('imputer', SimpleImputer()),\n",
        "        ('scaler', StandardScaler())]\n",
        ")\n",
        "\n",
        "# define a pipe line for categorical feature preprocessing\n",
        "# we gave them a name so we can set their hyperparameters\n",
        "transformer_categorical = Pipeline(\n",
        "    steps=[\n",
        "        ('imputer', SimpleImputer(strategy='constant')),\n",
        "        ('onehot', OneHotEncoder(handle_unknown='ignore'))\n",
        "    ]\n",
        ")\n",
        "# define the preprocessor \n",
        "# we gave them a name so we can set their hyperparameters\n",
        "# we also specify what are the categorical \n",
        "preprocessor = ColumnTransformer(\n",
        "    transformers=[\n",
        "        ('num', transformer_numeric, features_numeric),\n",
        "        ('cat', transformer_categorical, features_categorical)\n",
        "    ]\n",
        ")\n",
        "\n",
        "# combine the preprocessor with the model as a full tunable pipeline\n",
        "# we gave them a name so we can set their hyperparameters\n",
        "full_pipline = Pipeline(\n",
        "    steps=[\n",
        "        ('preprocessor', preprocessor),\n",
        "        ('my_classifier', \n",
        "           RandomForestClassifier(),\n",
        "        )\n",
        "    ]\n",
        ")\n",
        "full_pipline"
      ],
      "metadata": {
        "colab": {
          "base_uri": "https://localhost:8080/",
          "height": 225
        },
        "id": "2numjvdC0OSl",
        "outputId": "403bd807-4871-4390-d40e-c1b7690e0d6b"
      },
      "execution_count": null,
      "outputs": [
        {
          "output_type": "execute_result",
          "data": {
            "text/plain": [
              "Pipeline(steps=[('preprocessor',\n",
              "                 ColumnTransformer(transformers=[('num',\n",
              "                                                  Pipeline(steps=[('imputer',\n",
              "                                                                   SimpleImputer()),\n",
              "                                                                  ('scaler',\n",
              "                                                                   StandardScaler())]),\n",
              "                                                  ['gender', 'idg', 'condtn',\n",
              "                                                   'wave', 'round', 'position',\n",
              "                                                   'positin1', 'order',\n",
              "                                                   'partner', 'pid', 'int_corr',\n",
              "                                                   'samerace', 'age_o',\n",
              "                                                   'race_o', 'pf_o_att',\n",
              "                                                   'pf_o_sin', 'pf_o_int',\n",
              "                                                   'pf_o_fun', 'pf_o_amb',\n",
              "                                                   'pf_o_sha', 'attr_o',\n",
              "                                                   'sinc_o', 'intel_o', 'fun_o',\n",
              "                                                   'amb_o', 'shar_o', 'like_o',\n",
              "                                                   'prob_o', 'met_o', 'age', ...]),\n",
              "                                                 ('cat',\n",
              "                                                  Pipeline(steps=[('imputer',\n",
              "                                                                   SimpleImputer(strategy='constant')),\n",
              "                                                                  ('onehot',\n",
              "                                                                   OneHotEncoder(handle_unknown='ignore'))]),\n",
              "                                                  ['undergra', 'from',\n",
              "                                                   'income'])])),\n",
              "                ('my_classifier', RandomForestClassifier())])"
            ],
            "text/html": [
              "<style>#sk-container-id-4 {color: black;background-color: white;}#sk-container-id-4 pre{padding: 0;}#sk-container-id-4 div.sk-toggleable {background-color: white;}#sk-container-id-4 label.sk-toggleable__label {cursor: pointer;display: block;width: 100%;margin-bottom: 0;padding: 0.3em;box-sizing: border-box;text-align: center;}#sk-container-id-4 label.sk-toggleable__label-arrow:before {content: \"▸\";float: left;margin-right: 0.25em;color: #696969;}#sk-container-id-4 label.sk-toggleable__label-arrow:hover:before {color: black;}#sk-container-id-4 div.sk-estimator:hover label.sk-toggleable__label-arrow:before {color: black;}#sk-container-id-4 div.sk-toggleable__content {max-height: 0;max-width: 0;overflow: hidden;text-align: left;background-color: #f0f8ff;}#sk-container-id-4 div.sk-toggleable__content pre {margin: 0.2em;color: black;border-radius: 0.25em;background-color: #f0f8ff;}#sk-container-id-4 input.sk-toggleable__control:checked~div.sk-toggleable__content {max-height: 200px;max-width: 100%;overflow: auto;}#sk-container-id-4 input.sk-toggleable__control:checked~label.sk-toggleable__label-arrow:before {content: \"▾\";}#sk-container-id-4 div.sk-estimator input.sk-toggleable__control:checked~label.sk-toggleable__label {background-color: #d4ebff;}#sk-container-id-4 div.sk-label input.sk-toggleable__control:checked~label.sk-toggleable__label {background-color: #d4ebff;}#sk-container-id-4 input.sk-hidden--visually {border: 0;clip: rect(1px 1px 1px 1px);clip: rect(1px, 1px, 1px, 1px);height: 1px;margin: -1px;overflow: hidden;padding: 0;position: absolute;width: 1px;}#sk-container-id-4 div.sk-estimator {font-family: monospace;background-color: #f0f8ff;border: 1px dotted black;border-radius: 0.25em;box-sizing: border-box;margin-bottom: 0.5em;}#sk-container-id-4 div.sk-estimator:hover {background-color: #d4ebff;}#sk-container-id-4 div.sk-parallel-item::after {content: \"\";width: 100%;border-bottom: 1px solid gray;flex-grow: 1;}#sk-container-id-4 div.sk-label:hover label.sk-toggleable__label {background-color: #d4ebff;}#sk-container-id-4 div.sk-serial::before {content: \"\";position: absolute;border-left: 1px solid gray;box-sizing: border-box;top: 0;bottom: 0;left: 50%;z-index: 0;}#sk-container-id-4 div.sk-serial {display: flex;flex-direction: column;align-items: center;background-color: white;padding-right: 0.2em;padding-left: 0.2em;position: relative;}#sk-container-id-4 div.sk-item {position: relative;z-index: 1;}#sk-container-id-4 div.sk-parallel {display: flex;align-items: stretch;justify-content: center;background-color: white;position: relative;}#sk-container-id-4 div.sk-item::before, #sk-container-id-4 div.sk-parallel-item::before {content: \"\";position: absolute;border-left: 1px solid gray;box-sizing: border-box;top: 0;bottom: 0;left: 50%;z-index: -1;}#sk-container-id-4 div.sk-parallel-item {display: flex;flex-direction: column;z-index: 1;position: relative;background-color: white;}#sk-container-id-4 div.sk-parallel-item:first-child::after {align-self: flex-end;width: 50%;}#sk-container-id-4 div.sk-parallel-item:last-child::after {align-self: flex-start;width: 50%;}#sk-container-id-4 div.sk-parallel-item:only-child::after {width: 0;}#sk-container-id-4 div.sk-dashed-wrapped {border: 1px dashed gray;margin: 0 0.4em 0.5em 0.4em;box-sizing: border-box;padding-bottom: 0.4em;background-color: white;}#sk-container-id-4 div.sk-label label {font-family: monospace;font-weight: bold;display: inline-block;line-height: 1.2em;}#sk-container-id-4 div.sk-label-container {text-align: center;}#sk-container-id-4 div.sk-container {/* jupyter's `normalize.less` sets `[hidden] { display: none; }` but bootstrap.min.css set `[hidden] { display: none !important; }` so we also need the `!important` here to be able to override the default hidden behavior on the sphinx rendered scikit-learn.org. See: https://github.com/scikit-learn/scikit-learn/issues/21755 */display: inline-block !important;position: relative;}#sk-container-id-4 div.sk-text-repr-fallback {display: none;}</style><div id=\"sk-container-id-4\" class=\"sk-top-container\"><div class=\"sk-text-repr-fallback\"><pre>Pipeline(steps=[(&#x27;preprocessor&#x27;,\n",
              "                 ColumnTransformer(transformers=[(&#x27;num&#x27;,\n",
              "                                                  Pipeline(steps=[(&#x27;imputer&#x27;,\n",
              "                                                                   SimpleImputer()),\n",
              "                                                                  (&#x27;scaler&#x27;,\n",
              "                                                                   StandardScaler())]),\n",
              "                                                  [&#x27;gender&#x27;, &#x27;idg&#x27;, &#x27;condtn&#x27;,\n",
              "                                                   &#x27;wave&#x27;, &#x27;round&#x27;, &#x27;position&#x27;,\n",
              "                                                   &#x27;positin1&#x27;, &#x27;order&#x27;,\n",
              "                                                   &#x27;partner&#x27;, &#x27;pid&#x27;, &#x27;int_corr&#x27;,\n",
              "                                                   &#x27;samerace&#x27;, &#x27;age_o&#x27;,\n",
              "                                                   &#x27;race_o&#x27;, &#x27;pf_o_att&#x27;,\n",
              "                                                   &#x27;pf_o_sin&#x27;, &#x27;pf_o_int&#x27;,\n",
              "                                                   &#x27;pf_o_fun&#x27;, &#x27;pf_o_amb&#x27;,\n",
              "                                                   &#x27;pf_o_sha&#x27;, &#x27;attr_o&#x27;,\n",
              "                                                   &#x27;sinc_o&#x27;, &#x27;intel_o&#x27;, &#x27;fun_o&#x27;,\n",
              "                                                   &#x27;amb_o&#x27;, &#x27;shar_o&#x27;, &#x27;like_o&#x27;,\n",
              "                                                   &#x27;prob_o&#x27;, &#x27;met_o&#x27;, &#x27;age&#x27;, ...]),\n",
              "                                                 (&#x27;cat&#x27;,\n",
              "                                                  Pipeline(steps=[(&#x27;imputer&#x27;,\n",
              "                                                                   SimpleImputer(strategy=&#x27;constant&#x27;)),\n",
              "                                                                  (&#x27;onehot&#x27;,\n",
              "                                                                   OneHotEncoder(handle_unknown=&#x27;ignore&#x27;))]),\n",
              "                                                  [&#x27;undergra&#x27;, &#x27;from&#x27;,\n",
              "                                                   &#x27;income&#x27;])])),\n",
              "                (&#x27;my_classifier&#x27;, RandomForestClassifier())])</pre><b>In a Jupyter environment, please rerun this cell to show the HTML representation or trust the notebook. <br />On GitHub, the HTML representation is unable to render, please try loading this page with nbviewer.org.</b></div><div class=\"sk-container\" hidden><div class=\"sk-item sk-dashed-wrapped\"><div class=\"sk-label-container\"><div class=\"sk-label sk-toggleable\"><input class=\"sk-toggleable__control sk-hidden--visually\" id=\"sk-estimator-id-28\" type=\"checkbox\" ><label for=\"sk-estimator-id-28\" class=\"sk-toggleable__label sk-toggleable__label-arrow\">Pipeline</label><div class=\"sk-toggleable__content\"><pre>Pipeline(steps=[(&#x27;preprocessor&#x27;,\n",
              "                 ColumnTransformer(transformers=[(&#x27;num&#x27;,\n",
              "                                                  Pipeline(steps=[(&#x27;imputer&#x27;,\n",
              "                                                                   SimpleImputer()),\n",
              "                                                                  (&#x27;scaler&#x27;,\n",
              "                                                                   StandardScaler())]),\n",
              "                                                  [&#x27;gender&#x27;, &#x27;idg&#x27;, &#x27;condtn&#x27;,\n",
              "                                                   &#x27;wave&#x27;, &#x27;round&#x27;, &#x27;position&#x27;,\n",
              "                                                   &#x27;positin1&#x27;, &#x27;order&#x27;,\n",
              "                                                   &#x27;partner&#x27;, &#x27;pid&#x27;, &#x27;int_corr&#x27;,\n",
              "                                                   &#x27;samerace&#x27;, &#x27;age_o&#x27;,\n",
              "                                                   &#x27;race_o&#x27;, &#x27;pf_o_att&#x27;,\n",
              "                                                   &#x27;pf_o_sin&#x27;, &#x27;pf_o_int&#x27;,\n",
              "                                                   &#x27;pf_o_fun&#x27;, &#x27;pf_o_amb&#x27;,\n",
              "                                                   &#x27;pf_o_sha&#x27;, &#x27;attr_o&#x27;,\n",
              "                                                   &#x27;sinc_o&#x27;, &#x27;intel_o&#x27;, &#x27;fun_o&#x27;,\n",
              "                                                   &#x27;amb_o&#x27;, &#x27;shar_o&#x27;, &#x27;like_o&#x27;,\n",
              "                                                   &#x27;prob_o&#x27;, &#x27;met_o&#x27;, &#x27;age&#x27;, ...]),\n",
              "                                                 (&#x27;cat&#x27;,\n",
              "                                                  Pipeline(steps=[(&#x27;imputer&#x27;,\n",
              "                                                                   SimpleImputer(strategy=&#x27;constant&#x27;)),\n",
              "                                                                  (&#x27;onehot&#x27;,\n",
              "                                                                   OneHotEncoder(handle_unknown=&#x27;ignore&#x27;))]),\n",
              "                                                  [&#x27;undergra&#x27;, &#x27;from&#x27;,\n",
              "                                                   &#x27;income&#x27;])])),\n",
              "                (&#x27;my_classifier&#x27;, RandomForestClassifier())])</pre></div></div></div><div class=\"sk-serial\"><div class=\"sk-item sk-dashed-wrapped\"><div class=\"sk-label-container\"><div class=\"sk-label sk-toggleable\"><input class=\"sk-toggleable__control sk-hidden--visually\" id=\"sk-estimator-id-29\" type=\"checkbox\" ><label for=\"sk-estimator-id-29\" class=\"sk-toggleable__label sk-toggleable__label-arrow\">preprocessor: ColumnTransformer</label><div class=\"sk-toggleable__content\"><pre>ColumnTransformer(transformers=[(&#x27;num&#x27;,\n",
              "                                 Pipeline(steps=[(&#x27;imputer&#x27;, SimpleImputer()),\n",
              "                                                 (&#x27;scaler&#x27;, StandardScaler())]),\n",
              "                                 [&#x27;gender&#x27;, &#x27;idg&#x27;, &#x27;condtn&#x27;, &#x27;wave&#x27;, &#x27;round&#x27;,\n",
              "                                  &#x27;position&#x27;, &#x27;positin1&#x27;, &#x27;order&#x27;, &#x27;partner&#x27;,\n",
              "                                  &#x27;pid&#x27;, &#x27;int_corr&#x27;, &#x27;samerace&#x27;, &#x27;age_o&#x27;,\n",
              "                                  &#x27;race_o&#x27;, &#x27;pf_o_att&#x27;, &#x27;pf_o_sin&#x27;, &#x27;pf_o_int&#x27;,\n",
              "                                  &#x27;pf_o_fun&#x27;, &#x27;pf_o_amb&#x27;, &#x27;pf_o_sha&#x27;, &#x27;attr_o&#x27;,\n",
              "                                  &#x27;sinc_o&#x27;, &#x27;intel_o&#x27;, &#x27;fun_o&#x27;, &#x27;amb_o&#x27;,\n",
              "                                  &#x27;shar_o&#x27;, &#x27;like_o&#x27;, &#x27;prob_o&#x27;, &#x27;met_o&#x27;, &#x27;age&#x27;, ...]),\n",
              "                                (&#x27;cat&#x27;,\n",
              "                                 Pipeline(steps=[(&#x27;imputer&#x27;,\n",
              "                                                  SimpleImputer(strategy=&#x27;constant&#x27;)),\n",
              "                                                 (&#x27;onehot&#x27;,\n",
              "                                                  OneHotEncoder(handle_unknown=&#x27;ignore&#x27;))]),\n",
              "                                 [&#x27;undergra&#x27;, &#x27;from&#x27;, &#x27;income&#x27;])])</pre></div></div></div><div class=\"sk-parallel\"><div class=\"sk-parallel-item\"><div class=\"sk-item\"><div class=\"sk-label-container\"><div class=\"sk-label sk-toggleable\"><input class=\"sk-toggleable__control sk-hidden--visually\" id=\"sk-estimator-id-30\" type=\"checkbox\" ><label for=\"sk-estimator-id-30\" class=\"sk-toggleable__label sk-toggleable__label-arrow\">num</label><div class=\"sk-toggleable__content\"><pre>[&#x27;gender&#x27;, &#x27;idg&#x27;, &#x27;condtn&#x27;, &#x27;wave&#x27;, &#x27;round&#x27;, &#x27;position&#x27;, &#x27;positin1&#x27;, &#x27;order&#x27;, &#x27;partner&#x27;, &#x27;pid&#x27;, &#x27;int_corr&#x27;, &#x27;samerace&#x27;, &#x27;age_o&#x27;, &#x27;race_o&#x27;, &#x27;pf_o_att&#x27;, &#x27;pf_o_sin&#x27;, &#x27;pf_o_int&#x27;, &#x27;pf_o_fun&#x27;, &#x27;pf_o_amb&#x27;, &#x27;pf_o_sha&#x27;, &#x27;attr_o&#x27;, &#x27;sinc_o&#x27;, &#x27;intel_o&#x27;, &#x27;fun_o&#x27;, &#x27;amb_o&#x27;, &#x27;shar_o&#x27;, &#x27;like_o&#x27;, &#x27;prob_o&#x27;, &#x27;met_o&#x27;, &#x27;age&#x27;, &#x27;field_cd&#x27;, &#x27;race&#x27;, &#x27;imprace&#x27;, &#x27;imprelig&#x27;, &#x27;goal&#x27;, &#x27;date&#x27;, &#x27;go_out&#x27;, &#x27;career_c&#x27;, &#x27;sports&#x27;, &#x27;tvsports&#x27;, &#x27;exercise&#x27;, &#x27;dining&#x27;, &#x27;museums&#x27;, &#x27;art&#x27;, &#x27;hiking&#x27;, &#x27;gaming&#x27;, &#x27;clubbing&#x27;, &#x27;reading&#x27;, &#x27;tv&#x27;, &#x27;theater&#x27;, &#x27;movies&#x27;, &#x27;concerts&#x27;, &#x27;music&#x27;, &#x27;shopping&#x27;, &#x27;yoga&#x27;, &#x27;exphappy&#x27;, &#x27;attr1_1&#x27;, &#x27;sinc1_1&#x27;, &#x27;intel1_1&#x27;, &#x27;fun1_1&#x27;, &#x27;amb1_1&#x27;, &#x27;shar1_1&#x27;, &#x27;attr4_1&#x27;, &#x27;sinc4_1&#x27;, &#x27;intel4_1&#x27;, &#x27;fun4_1&#x27;, &#x27;amb4_1&#x27;, &#x27;shar4_1&#x27;, &#x27;attr2_1&#x27;, &#x27;sinc2_1&#x27;, &#x27;intel2_1&#x27;, &#x27;fun2_1&#x27;, &#x27;amb2_1&#x27;, &#x27;shar2_1&#x27;, &#x27;attr3_1&#x27;, &#x27;sinc3_1&#x27;, &#x27;fun3_1&#x27;, &#x27;intel3_1&#x27;, &#x27;amb3_1&#x27;, &#x27;attr5_1&#x27;, &#x27;sinc5_1&#x27;, &#x27;intel5_1&#x27;, &#x27;fun5_1&#x27;, &#x27;amb5_1&#x27;, &#x27;attr&#x27;, &#x27;sinc&#x27;, &#x27;intel&#x27;, &#x27;fun&#x27;, &#x27;amb&#x27;, &#x27;shar&#x27;, &#x27;like&#x27;, &#x27;prob&#x27;, &#x27;met&#x27;, &#x27;match_es&#x27;, &#x27;attr1_s&#x27;, &#x27;sinc1_s&#x27;, &#x27;intel1_s&#x27;, &#x27;fun1_s&#x27;, &#x27;amb1_s&#x27;, &#x27;shar1_s&#x27;, &#x27;attr3_s&#x27;, &#x27;sinc3_s&#x27;, &#x27;intel3_s&#x27;, &#x27;fun3_s&#x27;, &#x27;amb3_s&#x27;, &#x27;satis_2&#x27;, &#x27;length&#x27;, &#x27;numdat_2&#x27;, &#x27;attr1_2&#x27;, &#x27;sinc1_2&#x27;, &#x27;intel1_2&#x27;, &#x27;fun1_2&#x27;, &#x27;amb1_2&#x27;, &#x27;shar1_2&#x27;, &#x27;attr4_2&#x27;, &#x27;sinc4_2&#x27;, &#x27;intel4_2&#x27;, &#x27;fun4_2&#x27;, &#x27;amb4_2&#x27;, &#x27;shar4_2&#x27;, &#x27;attr2_2&#x27;, &#x27;sinc2_2&#x27;, &#x27;intel2_2&#x27;, &#x27;fun2_2&#x27;, &#x27;amb2_2&#x27;, &#x27;shar2_2&#x27;, &#x27;attr3_2&#x27;, &#x27;sinc3_2&#x27;, &#x27;intel3_2&#x27;, &#x27;fun3_2&#x27;, &#x27;amb3_2&#x27;, &#x27;attr5_2&#x27;, &#x27;sinc5_2&#x27;, &#x27;intel5_2&#x27;, &#x27;fun5_2&#x27;, &#x27;amb5_2&#x27;, &#x27;you_call&#x27;, &#x27;them_cal&#x27;, &#x27;date_3&#x27;, &#x27;attr1_3&#x27;, &#x27;sinc1_3&#x27;, &#x27;intel1_3&#x27;, &#x27;fun1_3&#x27;, &#x27;amb1_3&#x27;, &#x27;shar1_3&#x27;, &#x27;attr4_3&#x27;, &#x27;sinc4_3&#x27;, &#x27;intel4_3&#x27;, &#x27;fun4_3&#x27;, &#x27;amb4_3&#x27;, &#x27;shar4_3&#x27;, &#x27;attr2_3&#x27;, &#x27;sinc2_3&#x27;, &#x27;intel2_3&#x27;, &#x27;fun2_3&#x27;, &#x27;amb2_3&#x27;, &#x27;attr3_3&#x27;, &#x27;sinc3_3&#x27;, &#x27;intel3_3&#x27;, &#x27;fun3_3&#x27;, &#x27;amb3_3&#x27;, &#x27;id&#x27;]</pre></div></div></div><div class=\"sk-serial\"><div class=\"sk-item\"><div class=\"sk-serial\"><div class=\"sk-item\"><div class=\"sk-estimator sk-toggleable\"><input class=\"sk-toggleable__control sk-hidden--visually\" id=\"sk-estimator-id-31\" type=\"checkbox\" ><label for=\"sk-estimator-id-31\" class=\"sk-toggleable__label sk-toggleable__label-arrow\">SimpleImputer</label><div class=\"sk-toggleable__content\"><pre>SimpleImputer()</pre></div></div></div><div class=\"sk-item\"><div class=\"sk-estimator sk-toggleable\"><input class=\"sk-toggleable__control sk-hidden--visually\" id=\"sk-estimator-id-32\" type=\"checkbox\" ><label for=\"sk-estimator-id-32\" class=\"sk-toggleable__label sk-toggleable__label-arrow\">StandardScaler</label><div class=\"sk-toggleable__content\"><pre>StandardScaler()</pre></div></div></div></div></div></div></div></div><div class=\"sk-parallel-item\"><div class=\"sk-item\"><div class=\"sk-label-container\"><div class=\"sk-label sk-toggleable\"><input class=\"sk-toggleable__control sk-hidden--visually\" id=\"sk-estimator-id-33\" type=\"checkbox\" ><label for=\"sk-estimator-id-33\" class=\"sk-toggleable__label sk-toggleable__label-arrow\">cat</label><div class=\"sk-toggleable__content\"><pre>[&#x27;undergra&#x27;, &#x27;from&#x27;, &#x27;income&#x27;]</pre></div></div></div><div class=\"sk-serial\"><div class=\"sk-item\"><div class=\"sk-serial\"><div class=\"sk-item\"><div class=\"sk-estimator sk-toggleable\"><input class=\"sk-toggleable__control sk-hidden--visually\" id=\"sk-estimator-id-34\" type=\"checkbox\" ><label for=\"sk-estimator-id-34\" class=\"sk-toggleable__label sk-toggleable__label-arrow\">SimpleImputer</label><div class=\"sk-toggleable__content\"><pre>SimpleImputer(strategy=&#x27;constant&#x27;)</pre></div></div></div><div class=\"sk-item\"><div class=\"sk-estimator sk-toggleable\"><input class=\"sk-toggleable__control sk-hidden--visually\" id=\"sk-estimator-id-35\" type=\"checkbox\" ><label for=\"sk-estimator-id-35\" class=\"sk-toggleable__label sk-toggleable__label-arrow\">OneHotEncoder</label><div class=\"sk-toggleable__content\"><pre>OneHotEncoder(handle_unknown=&#x27;ignore&#x27;)</pre></div></div></div></div></div></div></div></div></div></div><div class=\"sk-item\"><div class=\"sk-estimator sk-toggleable\"><input class=\"sk-toggleable__control sk-hidden--visually\" id=\"sk-estimator-id-36\" type=\"checkbox\" ><label for=\"sk-estimator-id-36\" class=\"sk-toggleable__label sk-toggleable__label-arrow\">RandomForestClassifier</label><div class=\"sk-toggleable__content\"><pre>RandomForestClassifier()</pre></div></div></div></div></div></div></div>"
            ]
          },
          "metadata": {},
          "execution_count": 57
        }
      ]
    },
    {
      "cell_type": "code",
      "source": [
        "# The pipeline object can be used like any sk-learn model\n",
        "full_pipline = full_pipline.fit(X_train, y_train)\n",
        "full_pipline.predict(test_splitted)"
      ],
      "metadata": {
        "colab": {
          "base_uri": "https://localhost:8080/"
        },
        "id": "ug0ayP_AvUO1",
        "outputId": "4127beb9-e1b2-4ffc-db2c-e59009dc3731"
      },
      "execution_count": null,
      "outputs": [
        {
          "output_type": "execute_result",
          "data": {
            "text/plain": [
              "array([0, 0, 0, ..., 0, 0, 0])"
            ]
          },
          "metadata": {},
          "execution_count": 58
        }
      ]
    },
    {
      "cell_type": "markdown",
      "source": [
        "### Grid Search with Cross-validation"
      ],
      "metadata": {
        "id": "GDAgBOJgc9jq"
      }
    },
    {
      "cell_type": "code",
      "source": [
        "# here we specify the search space\n",
        "# `__` denotes an attribute of the preceeding name\n",
        "# (e.g. my_classifier__n_estimators means the `n_estimators` param for `my_classifier`)\n",
        "param_grid = {\n",
        "    'preprocessor__num__imputer__strategy': ['mean'],\n",
        "    # preprocessor__num__imputer__strategy points to preprocessor->num (a Pipeline)-> imputer -> strategy\n",
        "    'my_classifier__n_estimators': [20, 30, 40],  \n",
        "     # my_classifier__n_estimators points to my_classifier->n_estimators \n",
        "    'my_classifier__max_depth':[10, 20, 30]       \n",
        "}\n",
        "\n",
        "# cv=2 means two-fold cross-validation\n",
        "# n_jobs means the cucurrent number of jobs\n",
        "# (on colab since we only have two cpu cores, we set it to 2)\n",
        "grid_search = GridSearchCV(\n",
        "    full_pipline, param_grid, cv=2, verbose=1, n_jobs=2, \n",
        "    scoring='roc_auc')\n",
        "\n",
        "grid_search.fit(X_train, y_train)\n",
        "\n",
        "print('best score {}'.format(grid_search.best_score_))\n",
        "print('best score {}'.format(grid_search.best_params_))"
      ],
      "metadata": {
        "colab": {
          "base_uri": "https://localhost:8080/"
        },
        "id": "IlDQRXSXvXwd",
        "outputId": "9c286e0f-d388-4216-b739-297ae900ce0f"
      },
      "execution_count": null,
      "outputs": [
        {
          "output_type": "stream",
          "name": "stdout",
          "text": [
            "Fitting 2 folds for each of 9 candidates, totalling 18 fits\n",
            "best score 0.8224079536232336\n",
            "best score {'my_classifier__max_depth': 10, 'my_classifier__n_estimators': 30, 'preprocessor__num__imputer__strategy': 'mean'}\n"
          ]
        }
      ]
    },
    {
      "cell_type": "code",
      "source": [
        "# the resulting model is the same pipeline with the best hyperparameters\n",
        "# trained on the full training set. we can use it directly\n",
        "grid_search.predict(test_splitted)"
      ],
      "metadata": {
        "colab": {
          "base_uri": "https://localhost:8080/"
        },
        "id": "MaXy-yguveLN",
        "outputId": "c4780314-8407-40eb-f2e7-7ff571e49cd4"
      },
      "execution_count": null,
      "outputs": [
        {
          "output_type": "execute_result",
          "data": {
            "text/plain": [
              "array([0, 0, 0, ..., 0, 0, 0])"
            ]
          },
          "metadata": {},
          "execution_count": 60
        }
      ]
    },
    {
      "cell_type": "code",
      "source": [
        "submission = pd.DataFrame()\n",
        "\n",
        "submission['id'] = test['id']\n",
        "\n",
        "submission['match'] = grid_search.predict_proba(test_splitted)[:,1]\n",
        "\n",
        "submission.to_csv('sample_submission_walkthrough1.csv', index=False)"
      ],
      "metadata": {
        "id": "5v__Vbkpvg6e"
      },
      "execution_count": null,
      "outputs": []
    },
    {
      "cell_type": "markdown",
      "source": [
        "After using grid search with cross validation and the algorithm is randomforest the accuracy is .82 so we can try another algorethim"
      ],
      "metadata": {
        "id": "GT_pXtHUhFLc"
      }
    },
    {
      "cell_type": "markdown",
      "source": [
        "### with XGBoost algorithm "
      ],
      "metadata": {
        "id": "4z-JjoN4dIGD"
      }
    },
    {
      "cell_type": "code",
      "source": [
        "import numpy as np\n",
        "from sklearn.compose import ColumnTransformer\n",
        "from sklearn.datasets import fetch_openml\n",
        "from sklearn.pipeline import Pipeline\n",
        "from sklearn.impute import SimpleImputer\n",
        "from sklearn.preprocessing import StandardScaler, OneHotEncoder\n",
        "from sklearn.linear_model import LogisticRegression\n",
        "from sklearn.model_selection import train_test_split, GridSearchCV\n",
        "from xgboost.sklearn import XGBClassifier\n",
        "\n",
        "np.random.seed(0)\n",
        "\n",
        "# define a pipe line for numeric feature preprocessing\n",
        "# we gave them a name so we can set their hyperparameters\n",
        "transformer_numeric = Pipeline(\n",
        "    steps=[\n",
        "        ('imputer', SimpleImputer()),\n",
        "        ('scaler', StandardScaler())]\n",
        ")\n",
        "\n",
        "# define a pipe line for categorical feature preprocessing\n",
        "# we gave them a name so we can set their hyperparameters\n",
        "transformer_categorical = Pipeline(\n",
        "    steps=[\n",
        "        ('imputer', SimpleImputer(strategy='constant')),\n",
        "        ('onehot', OneHotEncoder(handle_unknown='ignore'))\n",
        "    ]\n",
        ")\n",
        "# define the preprocessor \n",
        "# we gave them a name so we can set their hyperparameters\n",
        "# we also specify what are the categorical \n",
        "preprocessor = ColumnTransformer(\n",
        "    transformers=[\n",
        "        ('num', transformer_numeric, features_numeric),\n",
        "        ('cat', transformer_categorical, features_categorical)\n",
        "    ]\n",
        ")\n",
        "\n",
        "# combine the preprocessor with the model as a full tunable pipeline\n",
        "# we gave them a name so we can set their hyperparameters\n",
        "full_pipline = Pipeline(\n",
        "    steps=[\n",
        "        ('preprocessor', preprocessor),\n",
        "        ('my_classifier', XGBClassifier(),\n",
        "        )\n",
        "    ]\n",
        ")\n",
        "full_pipline"
      ],
      "metadata": {
        "colab": {
          "base_uri": "https://localhost:8080/",
          "height": 225
        },
        "id": "fvfVe2lCUv6d",
        "outputId": "b5072a92-eaad-455b-d19e-6b2a7947ecfe"
      },
      "execution_count": null,
      "outputs": [
        {
          "output_type": "execute_result",
          "data": {
            "text/plain": [
              "Pipeline(steps=[('preprocessor',\n",
              "                 ColumnTransformer(transformers=[('num',\n",
              "                                                  Pipeline(steps=[('imputer',\n",
              "                                                                   SimpleImputer()),\n",
              "                                                                  ('scaler',\n",
              "                                                                   StandardScaler())]),\n",
              "                                                  ['gender', 'idg', 'condtn',\n",
              "                                                   'wave', 'round', 'position',\n",
              "                                                   'positin1', 'order',\n",
              "                                                   'partner', 'pid', 'int_corr',\n",
              "                                                   'samerace', 'age_o',\n",
              "                                                   'race_o', 'pf_o_att',\n",
              "                                                   'pf_o_sin', 'pf_o_int',\n",
              "                                                   'pf_o_fun', 'pf_o_amb',\n",
              "                                                   'pf_o_sha', 'attr_o',\n",
              "                                                   'sinc...\n",
              "                               feature_types=None, gamma=None, gpu_id=None,\n",
              "                               grow_policy=None, importance_type=None,\n",
              "                               interaction_constraints=None, learning_rate=None,\n",
              "                               max_bin=None, max_cat_threshold=None,\n",
              "                               max_cat_to_onehot=None, max_delta_step=None,\n",
              "                               max_depth=None, max_leaves=None,\n",
              "                               min_child_weight=None, missing=nan,\n",
              "                               monotone_constraints=None, n_estimators=100,\n",
              "                               n_jobs=None, num_parallel_tree=None,\n",
              "                               predictor=None, random_state=None, ...))])"
            ],
            "text/html": [
              "<style>#sk-container-id-5 {color: black;background-color: white;}#sk-container-id-5 pre{padding: 0;}#sk-container-id-5 div.sk-toggleable {background-color: white;}#sk-container-id-5 label.sk-toggleable__label {cursor: pointer;display: block;width: 100%;margin-bottom: 0;padding: 0.3em;box-sizing: border-box;text-align: center;}#sk-container-id-5 label.sk-toggleable__label-arrow:before {content: \"▸\";float: left;margin-right: 0.25em;color: #696969;}#sk-container-id-5 label.sk-toggleable__label-arrow:hover:before {color: black;}#sk-container-id-5 div.sk-estimator:hover label.sk-toggleable__label-arrow:before {color: black;}#sk-container-id-5 div.sk-toggleable__content {max-height: 0;max-width: 0;overflow: hidden;text-align: left;background-color: #f0f8ff;}#sk-container-id-5 div.sk-toggleable__content pre {margin: 0.2em;color: black;border-radius: 0.25em;background-color: #f0f8ff;}#sk-container-id-5 input.sk-toggleable__control:checked~div.sk-toggleable__content {max-height: 200px;max-width: 100%;overflow: auto;}#sk-container-id-5 input.sk-toggleable__control:checked~label.sk-toggleable__label-arrow:before {content: \"▾\";}#sk-container-id-5 div.sk-estimator input.sk-toggleable__control:checked~label.sk-toggleable__label {background-color: #d4ebff;}#sk-container-id-5 div.sk-label input.sk-toggleable__control:checked~label.sk-toggleable__label {background-color: #d4ebff;}#sk-container-id-5 input.sk-hidden--visually {border: 0;clip: rect(1px 1px 1px 1px);clip: rect(1px, 1px, 1px, 1px);height: 1px;margin: -1px;overflow: hidden;padding: 0;position: absolute;width: 1px;}#sk-container-id-5 div.sk-estimator {font-family: monospace;background-color: #f0f8ff;border: 1px dotted black;border-radius: 0.25em;box-sizing: border-box;margin-bottom: 0.5em;}#sk-container-id-5 div.sk-estimator:hover {background-color: #d4ebff;}#sk-container-id-5 div.sk-parallel-item::after {content: \"\";width: 100%;border-bottom: 1px solid gray;flex-grow: 1;}#sk-container-id-5 div.sk-label:hover label.sk-toggleable__label {background-color: #d4ebff;}#sk-container-id-5 div.sk-serial::before {content: \"\";position: absolute;border-left: 1px solid gray;box-sizing: border-box;top: 0;bottom: 0;left: 50%;z-index: 0;}#sk-container-id-5 div.sk-serial {display: flex;flex-direction: column;align-items: center;background-color: white;padding-right: 0.2em;padding-left: 0.2em;position: relative;}#sk-container-id-5 div.sk-item {position: relative;z-index: 1;}#sk-container-id-5 div.sk-parallel {display: flex;align-items: stretch;justify-content: center;background-color: white;position: relative;}#sk-container-id-5 div.sk-item::before, #sk-container-id-5 div.sk-parallel-item::before {content: \"\";position: absolute;border-left: 1px solid gray;box-sizing: border-box;top: 0;bottom: 0;left: 50%;z-index: -1;}#sk-container-id-5 div.sk-parallel-item {display: flex;flex-direction: column;z-index: 1;position: relative;background-color: white;}#sk-container-id-5 div.sk-parallel-item:first-child::after {align-self: flex-end;width: 50%;}#sk-container-id-5 div.sk-parallel-item:last-child::after {align-self: flex-start;width: 50%;}#sk-container-id-5 div.sk-parallel-item:only-child::after {width: 0;}#sk-container-id-5 div.sk-dashed-wrapped {border: 1px dashed gray;margin: 0 0.4em 0.5em 0.4em;box-sizing: border-box;padding-bottom: 0.4em;background-color: white;}#sk-container-id-5 div.sk-label label {font-family: monospace;font-weight: bold;display: inline-block;line-height: 1.2em;}#sk-container-id-5 div.sk-label-container {text-align: center;}#sk-container-id-5 div.sk-container {/* jupyter's `normalize.less` sets `[hidden] { display: none; }` but bootstrap.min.css set `[hidden] { display: none !important; }` so we also need the `!important` here to be able to override the default hidden behavior on the sphinx rendered scikit-learn.org. See: https://github.com/scikit-learn/scikit-learn/issues/21755 */display: inline-block !important;position: relative;}#sk-container-id-5 div.sk-text-repr-fallback {display: none;}</style><div id=\"sk-container-id-5\" class=\"sk-top-container\"><div class=\"sk-text-repr-fallback\"><pre>Pipeline(steps=[(&#x27;preprocessor&#x27;,\n",
              "                 ColumnTransformer(transformers=[(&#x27;num&#x27;,\n",
              "                                                  Pipeline(steps=[(&#x27;imputer&#x27;,\n",
              "                                                                   SimpleImputer()),\n",
              "                                                                  (&#x27;scaler&#x27;,\n",
              "                                                                   StandardScaler())]),\n",
              "                                                  [&#x27;gender&#x27;, &#x27;idg&#x27;, &#x27;condtn&#x27;,\n",
              "                                                   &#x27;wave&#x27;, &#x27;round&#x27;, &#x27;position&#x27;,\n",
              "                                                   &#x27;positin1&#x27;, &#x27;order&#x27;,\n",
              "                                                   &#x27;partner&#x27;, &#x27;pid&#x27;, &#x27;int_corr&#x27;,\n",
              "                                                   &#x27;samerace&#x27;, &#x27;age_o&#x27;,\n",
              "                                                   &#x27;race_o&#x27;, &#x27;pf_o_att&#x27;,\n",
              "                                                   &#x27;pf_o_sin&#x27;, &#x27;pf_o_int&#x27;,\n",
              "                                                   &#x27;pf_o_fun&#x27;, &#x27;pf_o_amb&#x27;,\n",
              "                                                   &#x27;pf_o_sha&#x27;, &#x27;attr_o&#x27;,\n",
              "                                                   &#x27;sinc...\n",
              "                               feature_types=None, gamma=None, gpu_id=None,\n",
              "                               grow_policy=None, importance_type=None,\n",
              "                               interaction_constraints=None, learning_rate=None,\n",
              "                               max_bin=None, max_cat_threshold=None,\n",
              "                               max_cat_to_onehot=None, max_delta_step=None,\n",
              "                               max_depth=None, max_leaves=None,\n",
              "                               min_child_weight=None, missing=nan,\n",
              "                               monotone_constraints=None, n_estimators=100,\n",
              "                               n_jobs=None, num_parallel_tree=None,\n",
              "                               predictor=None, random_state=None, ...))])</pre><b>In a Jupyter environment, please rerun this cell to show the HTML representation or trust the notebook. <br />On GitHub, the HTML representation is unable to render, please try loading this page with nbviewer.org.</b></div><div class=\"sk-container\" hidden><div class=\"sk-item sk-dashed-wrapped\"><div class=\"sk-label-container\"><div class=\"sk-label sk-toggleable\"><input class=\"sk-toggleable__control sk-hidden--visually\" id=\"sk-estimator-id-37\" type=\"checkbox\" ><label for=\"sk-estimator-id-37\" class=\"sk-toggleable__label sk-toggleable__label-arrow\">Pipeline</label><div class=\"sk-toggleable__content\"><pre>Pipeline(steps=[(&#x27;preprocessor&#x27;,\n",
              "                 ColumnTransformer(transformers=[(&#x27;num&#x27;,\n",
              "                                                  Pipeline(steps=[(&#x27;imputer&#x27;,\n",
              "                                                                   SimpleImputer()),\n",
              "                                                                  (&#x27;scaler&#x27;,\n",
              "                                                                   StandardScaler())]),\n",
              "                                                  [&#x27;gender&#x27;, &#x27;idg&#x27;, &#x27;condtn&#x27;,\n",
              "                                                   &#x27;wave&#x27;, &#x27;round&#x27;, &#x27;position&#x27;,\n",
              "                                                   &#x27;positin1&#x27;, &#x27;order&#x27;,\n",
              "                                                   &#x27;partner&#x27;, &#x27;pid&#x27;, &#x27;int_corr&#x27;,\n",
              "                                                   &#x27;samerace&#x27;, &#x27;age_o&#x27;,\n",
              "                                                   &#x27;race_o&#x27;, &#x27;pf_o_att&#x27;,\n",
              "                                                   &#x27;pf_o_sin&#x27;, &#x27;pf_o_int&#x27;,\n",
              "                                                   &#x27;pf_o_fun&#x27;, &#x27;pf_o_amb&#x27;,\n",
              "                                                   &#x27;pf_o_sha&#x27;, &#x27;attr_o&#x27;,\n",
              "                                                   &#x27;sinc...\n",
              "                               feature_types=None, gamma=None, gpu_id=None,\n",
              "                               grow_policy=None, importance_type=None,\n",
              "                               interaction_constraints=None, learning_rate=None,\n",
              "                               max_bin=None, max_cat_threshold=None,\n",
              "                               max_cat_to_onehot=None, max_delta_step=None,\n",
              "                               max_depth=None, max_leaves=None,\n",
              "                               min_child_weight=None, missing=nan,\n",
              "                               monotone_constraints=None, n_estimators=100,\n",
              "                               n_jobs=None, num_parallel_tree=None,\n",
              "                               predictor=None, random_state=None, ...))])</pre></div></div></div><div class=\"sk-serial\"><div class=\"sk-item sk-dashed-wrapped\"><div class=\"sk-label-container\"><div class=\"sk-label sk-toggleable\"><input class=\"sk-toggleable__control sk-hidden--visually\" id=\"sk-estimator-id-38\" type=\"checkbox\" ><label for=\"sk-estimator-id-38\" class=\"sk-toggleable__label sk-toggleable__label-arrow\">preprocessor: ColumnTransformer</label><div class=\"sk-toggleable__content\"><pre>ColumnTransformer(transformers=[(&#x27;num&#x27;,\n",
              "                                 Pipeline(steps=[(&#x27;imputer&#x27;, SimpleImputer()),\n",
              "                                                 (&#x27;scaler&#x27;, StandardScaler())]),\n",
              "                                 [&#x27;gender&#x27;, &#x27;idg&#x27;, &#x27;condtn&#x27;, &#x27;wave&#x27;, &#x27;round&#x27;,\n",
              "                                  &#x27;position&#x27;, &#x27;positin1&#x27;, &#x27;order&#x27;, &#x27;partner&#x27;,\n",
              "                                  &#x27;pid&#x27;, &#x27;int_corr&#x27;, &#x27;samerace&#x27;, &#x27;age_o&#x27;,\n",
              "                                  &#x27;race_o&#x27;, &#x27;pf_o_att&#x27;, &#x27;pf_o_sin&#x27;, &#x27;pf_o_int&#x27;,\n",
              "                                  &#x27;pf_o_fun&#x27;, &#x27;pf_o_amb&#x27;, &#x27;pf_o_sha&#x27;, &#x27;attr_o&#x27;,\n",
              "                                  &#x27;sinc_o&#x27;, &#x27;intel_o&#x27;, &#x27;fun_o&#x27;, &#x27;amb_o&#x27;,\n",
              "                                  &#x27;shar_o&#x27;, &#x27;like_o&#x27;, &#x27;prob_o&#x27;, &#x27;met_o&#x27;, &#x27;age&#x27;, ...]),\n",
              "                                (&#x27;cat&#x27;,\n",
              "                                 Pipeline(steps=[(&#x27;imputer&#x27;,\n",
              "                                                  SimpleImputer(strategy=&#x27;constant&#x27;)),\n",
              "                                                 (&#x27;onehot&#x27;,\n",
              "                                                  OneHotEncoder(handle_unknown=&#x27;ignore&#x27;))]),\n",
              "                                 [&#x27;undergra&#x27;, &#x27;from&#x27;, &#x27;income&#x27;])])</pre></div></div></div><div class=\"sk-parallel\"><div class=\"sk-parallel-item\"><div class=\"sk-item\"><div class=\"sk-label-container\"><div class=\"sk-label sk-toggleable\"><input class=\"sk-toggleable__control sk-hidden--visually\" id=\"sk-estimator-id-39\" type=\"checkbox\" ><label for=\"sk-estimator-id-39\" class=\"sk-toggleable__label sk-toggleable__label-arrow\">num</label><div class=\"sk-toggleable__content\"><pre>[&#x27;gender&#x27;, &#x27;idg&#x27;, &#x27;condtn&#x27;, &#x27;wave&#x27;, &#x27;round&#x27;, &#x27;position&#x27;, &#x27;positin1&#x27;, &#x27;order&#x27;, &#x27;partner&#x27;, &#x27;pid&#x27;, &#x27;int_corr&#x27;, &#x27;samerace&#x27;, &#x27;age_o&#x27;, &#x27;race_o&#x27;, &#x27;pf_o_att&#x27;, &#x27;pf_o_sin&#x27;, &#x27;pf_o_int&#x27;, &#x27;pf_o_fun&#x27;, &#x27;pf_o_amb&#x27;, &#x27;pf_o_sha&#x27;, &#x27;attr_o&#x27;, &#x27;sinc_o&#x27;, &#x27;intel_o&#x27;, &#x27;fun_o&#x27;, &#x27;amb_o&#x27;, &#x27;shar_o&#x27;, &#x27;like_o&#x27;, &#x27;prob_o&#x27;, &#x27;met_o&#x27;, &#x27;age&#x27;, &#x27;field_cd&#x27;, &#x27;race&#x27;, &#x27;imprace&#x27;, &#x27;imprelig&#x27;, &#x27;goal&#x27;, &#x27;date&#x27;, &#x27;go_out&#x27;, &#x27;career_c&#x27;, &#x27;sports&#x27;, &#x27;tvsports&#x27;, &#x27;exercise&#x27;, &#x27;dining&#x27;, &#x27;museums&#x27;, &#x27;art&#x27;, &#x27;hiking&#x27;, &#x27;gaming&#x27;, &#x27;clubbing&#x27;, &#x27;reading&#x27;, &#x27;tv&#x27;, &#x27;theater&#x27;, &#x27;movies&#x27;, &#x27;concerts&#x27;, &#x27;music&#x27;, &#x27;shopping&#x27;, &#x27;yoga&#x27;, &#x27;exphappy&#x27;, &#x27;attr1_1&#x27;, &#x27;sinc1_1&#x27;, &#x27;intel1_1&#x27;, &#x27;fun1_1&#x27;, &#x27;amb1_1&#x27;, &#x27;shar1_1&#x27;, &#x27;attr4_1&#x27;, &#x27;sinc4_1&#x27;, &#x27;intel4_1&#x27;, &#x27;fun4_1&#x27;, &#x27;amb4_1&#x27;, &#x27;shar4_1&#x27;, &#x27;attr2_1&#x27;, &#x27;sinc2_1&#x27;, &#x27;intel2_1&#x27;, &#x27;fun2_1&#x27;, &#x27;amb2_1&#x27;, &#x27;shar2_1&#x27;, &#x27;attr3_1&#x27;, &#x27;sinc3_1&#x27;, &#x27;fun3_1&#x27;, &#x27;intel3_1&#x27;, &#x27;amb3_1&#x27;, &#x27;attr5_1&#x27;, &#x27;sinc5_1&#x27;, &#x27;intel5_1&#x27;, &#x27;fun5_1&#x27;, &#x27;amb5_1&#x27;, &#x27;attr&#x27;, &#x27;sinc&#x27;, &#x27;intel&#x27;, &#x27;fun&#x27;, &#x27;amb&#x27;, &#x27;shar&#x27;, &#x27;like&#x27;, &#x27;prob&#x27;, &#x27;met&#x27;, &#x27;match_es&#x27;, &#x27;attr1_s&#x27;, &#x27;sinc1_s&#x27;, &#x27;intel1_s&#x27;, &#x27;fun1_s&#x27;, &#x27;amb1_s&#x27;, &#x27;shar1_s&#x27;, &#x27;attr3_s&#x27;, &#x27;sinc3_s&#x27;, &#x27;intel3_s&#x27;, &#x27;fun3_s&#x27;, &#x27;amb3_s&#x27;, &#x27;satis_2&#x27;, &#x27;length&#x27;, &#x27;numdat_2&#x27;, &#x27;attr1_2&#x27;, &#x27;sinc1_2&#x27;, &#x27;intel1_2&#x27;, &#x27;fun1_2&#x27;, &#x27;amb1_2&#x27;, &#x27;shar1_2&#x27;, &#x27;attr4_2&#x27;, &#x27;sinc4_2&#x27;, &#x27;intel4_2&#x27;, &#x27;fun4_2&#x27;, &#x27;amb4_2&#x27;, &#x27;shar4_2&#x27;, &#x27;attr2_2&#x27;, &#x27;sinc2_2&#x27;, &#x27;intel2_2&#x27;, &#x27;fun2_2&#x27;, &#x27;amb2_2&#x27;, &#x27;shar2_2&#x27;, &#x27;attr3_2&#x27;, &#x27;sinc3_2&#x27;, &#x27;intel3_2&#x27;, &#x27;fun3_2&#x27;, &#x27;amb3_2&#x27;, &#x27;attr5_2&#x27;, &#x27;sinc5_2&#x27;, &#x27;intel5_2&#x27;, &#x27;fun5_2&#x27;, &#x27;amb5_2&#x27;, &#x27;you_call&#x27;, &#x27;them_cal&#x27;, &#x27;date_3&#x27;, &#x27;attr1_3&#x27;, &#x27;sinc1_3&#x27;, &#x27;intel1_3&#x27;, &#x27;fun1_3&#x27;, &#x27;amb1_3&#x27;, &#x27;shar1_3&#x27;, &#x27;attr4_3&#x27;, &#x27;sinc4_3&#x27;, &#x27;intel4_3&#x27;, &#x27;fun4_3&#x27;, &#x27;amb4_3&#x27;, &#x27;shar4_3&#x27;, &#x27;attr2_3&#x27;, &#x27;sinc2_3&#x27;, &#x27;intel2_3&#x27;, &#x27;fun2_3&#x27;, &#x27;amb2_3&#x27;, &#x27;attr3_3&#x27;, &#x27;sinc3_3&#x27;, &#x27;intel3_3&#x27;, &#x27;fun3_3&#x27;, &#x27;amb3_3&#x27;, &#x27;id&#x27;]</pre></div></div></div><div class=\"sk-serial\"><div class=\"sk-item\"><div class=\"sk-serial\"><div class=\"sk-item\"><div class=\"sk-estimator sk-toggleable\"><input class=\"sk-toggleable__control sk-hidden--visually\" id=\"sk-estimator-id-40\" type=\"checkbox\" ><label for=\"sk-estimator-id-40\" class=\"sk-toggleable__label sk-toggleable__label-arrow\">SimpleImputer</label><div class=\"sk-toggleable__content\"><pre>SimpleImputer()</pre></div></div></div><div class=\"sk-item\"><div class=\"sk-estimator sk-toggleable\"><input class=\"sk-toggleable__control sk-hidden--visually\" id=\"sk-estimator-id-41\" type=\"checkbox\" ><label for=\"sk-estimator-id-41\" class=\"sk-toggleable__label sk-toggleable__label-arrow\">StandardScaler</label><div class=\"sk-toggleable__content\"><pre>StandardScaler()</pre></div></div></div></div></div></div></div></div><div class=\"sk-parallel-item\"><div class=\"sk-item\"><div class=\"sk-label-container\"><div class=\"sk-label sk-toggleable\"><input class=\"sk-toggleable__control sk-hidden--visually\" id=\"sk-estimator-id-42\" type=\"checkbox\" ><label for=\"sk-estimator-id-42\" class=\"sk-toggleable__label sk-toggleable__label-arrow\">cat</label><div class=\"sk-toggleable__content\"><pre>[&#x27;undergra&#x27;, &#x27;from&#x27;, &#x27;income&#x27;]</pre></div></div></div><div class=\"sk-serial\"><div class=\"sk-item\"><div class=\"sk-serial\"><div class=\"sk-item\"><div class=\"sk-estimator sk-toggleable\"><input class=\"sk-toggleable__control sk-hidden--visually\" id=\"sk-estimator-id-43\" type=\"checkbox\" ><label for=\"sk-estimator-id-43\" class=\"sk-toggleable__label sk-toggleable__label-arrow\">SimpleImputer</label><div class=\"sk-toggleable__content\"><pre>SimpleImputer(strategy=&#x27;constant&#x27;)</pre></div></div></div><div class=\"sk-item\"><div class=\"sk-estimator sk-toggleable\"><input class=\"sk-toggleable__control sk-hidden--visually\" id=\"sk-estimator-id-44\" type=\"checkbox\" ><label for=\"sk-estimator-id-44\" class=\"sk-toggleable__label sk-toggleable__label-arrow\">OneHotEncoder</label><div class=\"sk-toggleable__content\"><pre>OneHotEncoder(handle_unknown=&#x27;ignore&#x27;)</pre></div></div></div></div></div></div></div></div></div></div><div class=\"sk-item\"><div class=\"sk-estimator sk-toggleable\"><input class=\"sk-toggleable__control sk-hidden--visually\" id=\"sk-estimator-id-45\" type=\"checkbox\" ><label for=\"sk-estimator-id-45\" class=\"sk-toggleable__label sk-toggleable__label-arrow\">XGBClassifier</label><div class=\"sk-toggleable__content\"><pre>XGBClassifier(base_score=None, booster=None, callbacks=None,\n",
              "              colsample_bylevel=None, colsample_bynode=None,\n",
              "              colsample_bytree=None, early_stopping_rounds=None,\n",
              "              enable_categorical=False, eval_metric=None, feature_types=None,\n",
              "              gamma=None, gpu_id=None, grow_policy=None, importance_type=None,\n",
              "              interaction_constraints=None, learning_rate=None, max_bin=None,\n",
              "              max_cat_threshold=None, max_cat_to_onehot=None,\n",
              "              max_delta_step=None, max_depth=None, max_leaves=None,\n",
              "              min_child_weight=None, missing=nan, monotone_constraints=None,\n",
              "              n_estimators=100, n_jobs=None, num_parallel_tree=None,\n",
              "              predictor=None, random_state=None, ...)</pre></div></div></div></div></div></div></div>"
            ]
          },
          "metadata": {},
          "execution_count": 62
        }
      ]
    },
    {
      "cell_type": "code",
      "source": [
        "# here we specify the search space\n",
        "# `__` denotes an attribute of the preceeding name\n",
        "# (e.g. my_classifier__n_estimators means the `n_estimators` param for `my_classifier`)\n",
        "param_grid = {\n",
        "    'preprocessor__num__imputer__strategy': ['mean'],\n",
        "    # preprocessor__num__imputer__strategy points to preprocessor->num (a Pipeline)-> imputer -> strategy\n",
        "    'my_classifier__n_estimators': [100,700,900],  \n",
        "     # my_classifier__n_estimators points to my_classifier->n_estimators \n",
        "   # 'my_classifier__max_depth':[5, 8, 10],\n",
        "    'my_classifier__learning_rate' :[.01,0.02,.03]    \n",
        "}\n",
        "\n",
        "# cv=2 means two-fold cross-validation\n",
        "# n_jobs means the cucurrent number of jobs\n",
        "# (on colab since we only have two cpu cores, we set it to 2)\n",
        "grid_search = GridSearchCV(\n",
        "    full_pipline, param_grid, cv=2, verbose=1, n_jobs=2, \n",
        "    scoring='roc_auc')\n",
        "\n",
        "grid_search.fit(X_train, y_train)\n",
        "\n",
        "print('best score {}'.format(grid_search.best_score_))\n",
        "print('best score {}'.format(grid_search.best_params_))"
      ],
      "metadata": {
        "colab": {
          "base_uri": "https://localhost:8080/"
        },
        "id": "ViPeAULsVheT",
        "outputId": "2dfa125b-720b-4c41-f901-2321a2798d22"
      },
      "execution_count": null,
      "outputs": [
        {
          "output_type": "stream",
          "name": "stdout",
          "text": [
            "Fitting 2 folds for each of 9 candidates, totalling 18 fits\n",
            "best score 0.8599750808480178\n",
            "best score {'my_classifier__learning_rate': 0.01, 'my_classifier__n_estimators': 700, 'preprocessor__num__imputer__strategy': 'mean'}\n"
          ]
        }
      ]
    },
    {
      "cell_type": "code",
      "source": [
        "submission = pd.DataFrame()\n",
        "\n",
        "submission['id'] = test['id']\n",
        "\n",
        "submission['match'] = grid_search.predict_proba(test_splitted)[:,1]\n",
        "\n",
        "submission.to_csv('sample_submission_walkthrough2.csv', index=False)"
      ],
      "metadata": {
        "id": "8Np7pwpRhh_z"
      },
      "execution_count": null,
      "outputs": []
    },
    {
      "cell_type": "markdown",
      "source": [
        "### Grid Search with validation set\n",
        "### Cross-validation is expensive. We can supply our own validation set"
      ],
      "metadata": {
        "id": "ajbQofnkd-jT"
      }
    },
    {
      "cell_type": "code",
      "source": [
        "from sklearn.model_selection import train_test_split, GridSearchCV\n",
        "from sklearn.model_selection import PredefinedSplit\n",
        "\n",
        "# Further split the original training set to a train and a validation set\n",
        "X_train2, X_val, y_train2, y_val = train_test_split(\n",
        "    X_train, y_train, train_size = 0.8, stratify = y_train, random_state = 2022)\n",
        "\n",
        "# Create a list where train data indices are -1 and validation data indices are 0\n",
        "# X_train2 (new training set), X_train\n",
        "split_index = [-1 if x in X_train2.index else 0 for x in X_train.index]\n",
        "\n",
        "# Use the list to create PredefinedSplit\n",
        "pds = PredefinedSplit(test_fold = split_index)\n",
        "\n",
        "grid_search = GridSearchCV(\n",
        "    full_pipline, param_grid, cv=pds, verbose=1, n_jobs=2, \n",
        "    scoring='roc_auc')\n",
        "\n",
        "# here we still use X_train; but the grid search model\n",
        "# will use our predefined split internally to determine \n",
        "# which sample belongs to the validation set\n",
        "grid_search.fit(X_train, y_train)\n",
        "\n",
        "print('best score {}'.format(grid_search.best_score_))\n",
        "print('best score {}'.format(grid_search.best_params_))"
      ],
      "metadata": {
        "id": "yQfD_uNxwfHV",
        "colab": {
          "base_uri": "https://localhost:8080/"
        },
        "outputId": "e6a5da96-f067-460d-a522-93de5af8a0b2"
      },
      "execution_count": null,
      "outputs": [
        {
          "output_type": "stream",
          "name": "stdout",
          "text": [
            "Fitting 1 folds for each of 9 candidates, totalling 9 fits\n",
            "best score 0.8686171712046903\n",
            "best score {'my_classifier__learning_rate': 0.03, 'my_classifier__n_estimators': 900, 'preprocessor__num__imputer__strategy': 'mean'}\n"
          ]
        }
      ]
    },
    {
      "cell_type": "code",
      "source": [
        "submission = pd.DataFrame()\n",
        "\n",
        "submission['id'] = test['id']\n",
        "\n",
        "submission['match'] = grid_search.predict_proba(test_splitted)[:,1]\n",
        "\n",
        "submission.to_csv('sample_submission_walkthrough3.csv', index=False)"
      ],
      "metadata": {
        "id": "MRO9H6rmhjmC"
      },
      "execution_count": null,
      "outputs": []
    },
    {
      "cell_type": "markdown",
      "source": [
        "### Random Search\n",
        "### Grid search (global optimal) is expensive when you specify a large search space. Alternatively, random search CV give you local optimal (may be good enough and even more generalizable)"
      ],
      "metadata": {
        "id": "cHiSpj0jdXh7"
      }
    },
    {
      "cell_type": "code",
      "source": [
        "from sklearn.model_selection import train_test_split, RandomizedSearchCV\n",
        "from sklearn.model_selection import PredefinedSplit\n",
        "\n",
        "grid_search = RandomizedSearchCV(\n",
        "    full_pipline, param_grid, cv=pds, verbose=1, n_jobs=2, \n",
        "    # number of random trials\n",
        "    n_iter=10,\n",
        "    scoring='roc_auc')\n",
        "\n",
        "grid_search.fit(X_train, y_train)\n",
        "\n",
        "print('best score {}'.format(grid_search.best_score_))\n",
        "print('best score {}'.format(grid_search.best_params_))"
      ],
      "metadata": {
        "id": "_fFX8FJEkHbq",
        "colab": {
          "base_uri": "https://localhost:8080/"
        },
        "outputId": "8821250c-00f6-4da7-9b73-f1e2ff615036"
      },
      "execution_count": null,
      "outputs": [
        {
          "output_type": "stream",
          "name": "stdout",
          "text": [
            "Fitting 1 folds for each of 9 candidates, totalling 9 fits\n"
          ]
        },
        {
          "output_type": "stream",
          "name": "stderr",
          "text": [
            "/usr/local/lib/python3.9/dist-packages/sklearn/model_selection/_search.py:305: UserWarning: The total space of parameters 9 is smaller than n_iter=10. Running 9 iterations. For exhaustive searches, use GridSearchCV.\n",
            "  warnings.warn(\n"
          ]
        },
        {
          "output_type": "stream",
          "name": "stdout",
          "text": [
            "best score 0.8686171712046903\n",
            "best score {'preprocessor__num__imputer__strategy': 'mean', 'my_classifier__n_estimators': 900, 'my_classifier__learning_rate': 0.03}\n"
          ]
        }
      ]
    },
    {
      "cell_type": "markdown",
      "source": [
        "the best accuracy by random search "
      ],
      "metadata": {
        "id": "QAsvk4_JiaBT"
      }
    },
    {
      "cell_type": "code",
      "source": [
        "submission = pd.DataFrame()\n",
        "\n",
        "submission['id'] = test['id']\n",
        "\n",
        "submission['match'] = grid_search.predict_proba(test_splitted)[:,1]\n",
        "\n",
        "submission.to_csv('sample_submission_walkthrough4.csv', index=False)"
      ],
      "metadata": {
        "id": "mMRP8flehpfj"
      },
      "execution_count": null,
      "outputs": []
    },
    {
      "cell_type": "markdown",
      "source": [
        "### Bayesian Search\n",
        "### We can interpret the hyperparameter search problem as a non-differentiable optimization problem, and use bayesian learning to predict what is the next hyperparamter values we should try given the current trials."
      ],
      "metadata": {
        "id": "TzjITDJgelH7"
      }
    },
    {
      "cell_type": "code",
      "source": [
        "!pip install scikit-optimize"
      ],
      "metadata": {
        "colab": {
          "base_uri": "https://localhost:8080/"
        },
        "id": "4-LWg2VJenAT",
        "outputId": "459a4abc-dd42-49e1-ba67-676ecfdb77b7"
      },
      "execution_count": null,
      "outputs": [
        {
          "output_type": "stream",
          "name": "stdout",
          "text": [
            "Looking in indexes: https://pypi.org/simple, https://us-python.pkg.dev/colab-wheels/public/simple/\n",
            "Collecting scikit-optimize\n",
            "  Downloading scikit_optimize-0.9.0-py2.py3-none-any.whl (100 kB)\n",
            "\u001b[2K     \u001b[90m━━━━━━━━━━━━━━━━━━━━━━━━━━━━━━━━━━━━━━━\u001b[0m \u001b[32m100.3/100.3 KB\u001b[0m \u001b[31m4.0 MB/s\u001b[0m eta \u001b[36m0:00:00\u001b[0m\n",
            "\u001b[?25hCollecting pyaml>=16.9\n",
            "  Downloading pyaml-21.10.1-py2.py3-none-any.whl (24 kB)\n",
            "Requirement already satisfied: joblib>=0.11 in /usr/local/lib/python3.9/dist-packages (from scikit-optimize) (1.1.1)\n",
            "Requirement already satisfied: scipy>=0.19.1 in /usr/local/lib/python3.9/dist-packages (from scikit-optimize) (1.10.1)\n",
            "Requirement already satisfied: scikit-learn>=0.20.0 in /usr/local/lib/python3.9/dist-packages (from scikit-optimize) (1.2.2)\n",
            "Requirement already satisfied: numpy>=1.13.3 in /usr/local/lib/python3.9/dist-packages (from scikit-optimize) (1.22.4)\n",
            "Requirement already satisfied: PyYAML in /usr/local/lib/python3.9/dist-packages (from pyaml>=16.9->scikit-optimize) (6.0)\n",
            "Requirement already satisfied: threadpoolctl>=2.0.0 in /usr/local/lib/python3.9/dist-packages (from scikit-learn>=0.20.0->scikit-optimize) (3.1.0)\n",
            "Installing collected packages: pyaml, scikit-optimize\n",
            "Successfully installed pyaml-21.10.1 scikit-optimize-0.9.0\n"
          ]
        }
      ]
    },
    {
      "cell_type": "code",
      "source": [
        "# Let's try this with SVM model\n",
        "from skopt import BayesSearchCV\n",
        "from skopt.space import Real, Categorical, Integer\n",
        "from sklearn.svm import SVC\n",
        "\n",
        "\n",
        "SVC_pipline = Pipeline(\n",
        "    steps=[\n",
        "        ('preprocessor', preprocessor),\n",
        "        ('my_svc', SVC(class_weight='balanced'))\n",
        "    ]\n",
        ")\n",
        "# SVC has a class_weight attribute for unbalanced data\n",
        "\n",
        "\n",
        "# define ranges for bayes search\n",
        "bayes_search = BayesSearchCV(\n",
        "    SVC_pipline,\n",
        "    {\n",
        "        'my_svc__C': Real(1e-6, 1e+6, prior='log-uniform'),\n",
        "        'my_svc__gamma': Real(1e-6, 1e+1, prior='log-uniform'),\n",
        "        'my_svc__degree': Integer(1,8),\n",
        "        'my_svc__kernel': Categorical(['linear', 'poly', 'rbf']),\n",
        "    },\n",
        "    # number of trials \n",
        "    n_iter=3,\n",
        "    random_state=0,\n",
        "    verbose=1,\n",
        "    # we still use \n",
        "    cv=pds,\n",
        ")\n",
        "\n",
        "bayes_search.fit(X_train, y_train)\n",
        "\n",
        "print('best score {}'.format(bayes_search.best_score_))\n",
        "print('best score {}'.format(bayes_search.best_params_))"
      ],
      "metadata": {
        "colab": {
          "base_uri": "https://localhost:8080/"
        },
        "id": "qGzq1jlieqBj",
        "outputId": "067c7c0b-73ed-4d38-d61e-3d44de71dc86"
      },
      "execution_count": null,
      "outputs": [
        {
          "output_type": "stream",
          "name": "stdout",
          "text": [
            "Fitting 1 folds for each of 1 candidates, totalling 1 fits\n",
            "Fitting 1 folds for each of 1 candidates, totalling 1 fits\n",
            "Fitting 1 folds for each of 1 candidates, totalling 1 fits\n",
            "best score 0.8333333333333334\n",
            "best score OrderedDict([('my_svc__C', 0.0012602593949011189), ('my_svc__degree', 8), ('my_svc__gamma', 2.285959941576884), ('my_svc__kernel', 'poly')])\n"
          ]
        }
      ]
    },
    {
      "cell_type": "code",
      "source": [
        "submission = pd.DataFrame()\n",
        "\n",
        "submission['id'] = test['id']\n",
        "\n",
        "submission['match'] = grid_search.predict_proba(test_splitted)[:,1]\n",
        "\n",
        "submission.to_csv('sample_submission_walkthrough5.csv', index=False)"
      ],
      "metadata": {
        "id": "BtrDQMXZhsk7"
      },
      "execution_count": null,
      "outputs": []
    }
  ]
}